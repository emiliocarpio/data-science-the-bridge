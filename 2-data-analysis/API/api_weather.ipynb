{
 "cells": [
  {
   "cell_type": "code",
   "execution_count": 45,
   "metadata": {},
   "outputs": [],
   "source": [
    "import requests\n",
    "import pandas as pd"
   ]
  },
  {
   "cell_type": "code",
   "execution_count": 46,
   "metadata": {},
   "outputs": [],
   "source": [
    "api_key = \"f275aa333c628e5a702c7d4f1fce6cdb\""
   ]
  },
  {
   "cell_type": "code",
   "execution_count": 72,
   "metadata": {},
   "outputs": [],
   "source": [
    "cities_dict = {\n",
    "    \"PAT\": [\"Mieres\", \"ES\"],\n",
    "    \"FRAN\": [\"Sevilla\", \"ES\"],\n",
    "    \"AITOR\": [\"Zarautz\", \"ES\"],\n",
    "    \"ISRA\": [\"Barcelona\", \"ES\"],\n",
    "    \"GUS\": [\"Madrid\", \"ES\"],\n",
    "    \"Emi\": ['Alpedrete', 'ES'],\n",
    "    'Lou': ['Pozuelo', 'ES'],\n",
    "    }"
   ]
  },
  {
   "cell_type": "code",
   "execution_count": 73,
   "metadata": {},
   "outputs": [
    {
     "data": {
      "text/plain": [
       "{'PAT': ['Mieres', 'ES'],\n",
       " 'FRAN': ['Sevilla', 'ES'],\n",
       " 'AITOR': ['Zarautz', 'ES'],\n",
       " 'ISRA': ['Barcelona', 'ES'],\n",
       " 'GUS': ['Madrid', 'ES'],\n",
       " 'Emi': ['Alpedrete', 'ES'],\n",
       " 'Lou': ['Pozuelo', 'ES']}"
      ]
     },
     "execution_count": 73,
     "metadata": {},
     "output_type": "execute_result"
    }
   ],
   "source": [
    "cities_dict"
   ]
  },
  {
   "cell_type": "code",
   "execution_count": 74,
   "metadata": {},
   "outputs": [],
   "source": [
    "coords_dict = {}\n",
    "for k, v in cities_dict.items():\n",
    "    #print(k, v[0])\n",
    "    URL = \"https://api.openweathermap.org/data/2.5/weather?q={0},{1}&appid={2}\" \\\n",
    "        .format(v[0], v[1], api_key)\n",
    "    response = requests.get(url = URL)\n",
    "    data = response.json()\n",
    "    coords_dict[k] = [\n",
    "        data[\"coord\"][\"lon\"], \n",
    "        data[\"coord\"][\"lat\"],\n",
    "        data[\"dt\"]]"
   ]
  },
  {
   "cell_type": "code",
   "execution_count": 53,
   "metadata": {},
   "outputs": [],
   "source": [
    "#data"
   ]
  },
  {
   "cell_type": "code",
   "execution_count": 75,
   "metadata": {},
   "outputs": [
    {
     "data": {
      "text/plain": [
       "{'PAT': [-5.7667, 43.25, 1654340409],\n",
       " 'FRAN': [-5.9761, 37.3824, 1654340670],\n",
       " 'AITOR': [-2.1699, 43.2844, 1654340578],\n",
       " 'ISRA': [2.159, 41.3888, 1654340452],\n",
       " 'GUS': [-3.7026, 40.4165, 1654340153],\n",
       " 'Emi': [-4.0251, 40.6589, 1654340786],\n",
       " 'Lou': [-2.101, 38.8099, 1654340682]}"
      ]
     },
     "execution_count": 75,
     "metadata": {},
     "output_type": "execute_result"
    }
   ],
   "source": [
    "coords_dict"
   ]
  },
  {
   "cell_type": "code",
   "execution_count": 76,
   "metadata": {},
   "outputs": [],
   "source": [
    "measures_dict = {}\n",
    "for k, v in coords_dict.items():\n",
    "    #print(k, v[0])\n",
    "    URL = \"https://api.openweathermap.org/data/2.5/weather?lat={1}&lon={0}&appid={2}&units=metric\" \\\n",
    "        .format(v[0], v[1], api_key)\n",
    "    PARAMS = {}\n",
    "    response = requests.get(url = URL, params = PARAMS)\n",
    "    data = response.json()\n",
    "    measures_dict[cities_dict[k][0]] = \\\n",
    "        [data[\"main\"][\"temp\"],\n",
    "        data[\"main\"][\"pressure\"],\n",
    "        data[\"main\"][\"humidity\"],\n",
    "        data[\"dt\"]]"
   ]
  },
  {
   "cell_type": "code",
   "execution_count": 77,
   "metadata": {},
   "outputs": [
    {
     "data": {
      "text/plain": [
       "{'Mieres': [15.52, 1016, 64, 1654340409],\n",
       " 'Sevilla': [23.28, 1016, 53, 1654340482],\n",
       " 'Zarautz': [19.19, 1016, 80, 1654340584],\n",
       " 'Barcelona': [25.42, 1014, 70, 1654340452],\n",
       " 'Madrid': [22.94, 1017, 43, 1654340151],\n",
       " 'Alpedrete': [20.41, 1016, 49, 1654340606],\n",
       " 'Pozuelo': [23.01, 1015, 31, 1654340754]}"
      ]
     },
     "execution_count": 77,
     "metadata": {},
     "output_type": "execute_result"
    }
   ],
   "source": [
    "measures_dict"
   ]
  },
  {
   "cell_type": "code",
   "execution_count": 78,
   "metadata": {},
   "outputs": [
    {
     "data": {
      "text/html": [
       "<div>\n",
       "<style scoped>\n",
       "    .dataframe tbody tr th:only-of-type {\n",
       "        vertical-align: middle;\n",
       "    }\n",
       "\n",
       "    .dataframe tbody tr th {\n",
       "        vertical-align: top;\n",
       "    }\n",
       "\n",
       "    .dataframe thead th {\n",
       "        text-align: right;\n",
       "    }\n",
       "</style>\n",
       "<table border=\"1\" class=\"dataframe\">\n",
       "  <thead>\n",
       "    <tr style=\"text-align: right;\">\n",
       "      <th></th>\n",
       "      <th>temp</th>\n",
       "      <th>pressure</th>\n",
       "      <th>humidity</th>\n",
       "      <th>dt</th>\n",
       "    </tr>\n",
       "  </thead>\n",
       "  <tbody>\n",
       "    <tr>\n",
       "      <th>Mieres</th>\n",
       "      <td>15.52</td>\n",
       "      <td>1016</td>\n",
       "      <td>64</td>\n",
       "      <td>1654340409</td>\n",
       "    </tr>\n",
       "    <tr>\n",
       "      <th>Sevilla</th>\n",
       "      <td>23.28</td>\n",
       "      <td>1016</td>\n",
       "      <td>53</td>\n",
       "      <td>1654340482</td>\n",
       "    </tr>\n",
       "    <tr>\n",
       "      <th>Zarautz</th>\n",
       "      <td>19.19</td>\n",
       "      <td>1016</td>\n",
       "      <td>80</td>\n",
       "      <td>1654340584</td>\n",
       "    </tr>\n",
       "    <tr>\n",
       "      <th>Barcelona</th>\n",
       "      <td>25.42</td>\n",
       "      <td>1014</td>\n",
       "      <td>70</td>\n",
       "      <td>1654340452</td>\n",
       "    </tr>\n",
       "    <tr>\n",
       "      <th>Madrid</th>\n",
       "      <td>22.94</td>\n",
       "      <td>1017</td>\n",
       "      <td>43</td>\n",
       "      <td>1654340151</td>\n",
       "    </tr>\n",
       "    <tr>\n",
       "      <th>Alpedrete</th>\n",
       "      <td>20.41</td>\n",
       "      <td>1016</td>\n",
       "      <td>49</td>\n",
       "      <td>1654340606</td>\n",
       "    </tr>\n",
       "    <tr>\n",
       "      <th>Pozuelo</th>\n",
       "      <td>23.01</td>\n",
       "      <td>1015</td>\n",
       "      <td>31</td>\n",
       "      <td>1654340754</td>\n",
       "    </tr>\n",
       "  </tbody>\n",
       "</table>\n",
       "</div>"
      ],
      "text/plain": [
       "            temp  pressure  humidity          dt\n",
       "Mieres     15.52      1016        64  1654340409\n",
       "Sevilla    23.28      1016        53  1654340482\n",
       "Zarautz    19.19      1016        80  1654340584\n",
       "Barcelona  25.42      1014        70  1654340452\n",
       "Madrid     22.94      1017        43  1654340151\n",
       "Alpedrete  20.41      1016        49  1654340606\n",
       "Pozuelo    23.01      1015        31  1654340754"
      ]
     },
     "execution_count": 78,
     "metadata": {},
     "output_type": "execute_result"
    }
   ],
   "source": [
    "x = pd.DataFrame(measures_dict).T\n",
    "x = x.rename(\n",
    "    columns = {\n",
    "        0: \"temp\", \n",
    "        1: \"pressure\", \n",
    "        2: \"humidity\",\n",
    "        3: 'dt'})\n",
    "x[\"pressure\"] = x[\"pressure\"].astype(\"int\")\n",
    "x[\"humidity\"] = x[\"humidity\"].astype(\"int\")\n",
    "x[\"dt\"] = x[\"dt\"].astype(\"int\")    \n",
    "x"
   ]
  },
  {
   "cell_type": "code",
   "execution_count": 79,
   "metadata": {},
   "outputs": [
    {
     "data": {
      "text/html": [
       "<div>\n",
       "<style scoped>\n",
       "    .dataframe tbody tr th:only-of-type {\n",
       "        vertical-align: middle;\n",
       "    }\n",
       "\n",
       "    .dataframe tbody tr th {\n",
       "        vertical-align: top;\n",
       "    }\n",
       "\n",
       "    .dataframe thead th {\n",
       "        text-align: right;\n",
       "    }\n",
       "</style>\n",
       "<table border=\"1\" class=\"dataframe\">\n",
       "  <thead>\n",
       "    <tr style=\"text-align: right;\">\n",
       "      <th></th>\n",
       "      <th>temp</th>\n",
       "      <th>pressure</th>\n",
       "      <th>humidity</th>\n",
       "      <th>dt</th>\n",
       "      <th>datetime</th>\n",
       "    </tr>\n",
       "  </thead>\n",
       "  <tbody>\n",
       "    <tr>\n",
       "      <th>Mieres</th>\n",
       "      <td>15.52</td>\n",
       "      <td>1016</td>\n",
       "      <td>64</td>\n",
       "      <td>1654340409</td>\n",
       "      <td>2022-06-04 11:00:09</td>\n",
       "    </tr>\n",
       "    <tr>\n",
       "      <th>Sevilla</th>\n",
       "      <td>23.28</td>\n",
       "      <td>1016</td>\n",
       "      <td>53</td>\n",
       "      <td>1654340482</td>\n",
       "      <td>2022-06-04 11:01:22</td>\n",
       "    </tr>\n",
       "    <tr>\n",
       "      <th>Zarautz</th>\n",
       "      <td>19.19</td>\n",
       "      <td>1016</td>\n",
       "      <td>80</td>\n",
       "      <td>1654340584</td>\n",
       "      <td>2022-06-04 11:03:04</td>\n",
       "    </tr>\n",
       "    <tr>\n",
       "      <th>Barcelona</th>\n",
       "      <td>25.42</td>\n",
       "      <td>1014</td>\n",
       "      <td>70</td>\n",
       "      <td>1654340452</td>\n",
       "      <td>2022-06-04 11:00:52</td>\n",
       "    </tr>\n",
       "    <tr>\n",
       "      <th>Madrid</th>\n",
       "      <td>22.94</td>\n",
       "      <td>1017</td>\n",
       "      <td>43</td>\n",
       "      <td>1654340151</td>\n",
       "      <td>2022-06-04 10:55:51</td>\n",
       "    </tr>\n",
       "    <tr>\n",
       "      <th>Alpedrete</th>\n",
       "      <td>20.41</td>\n",
       "      <td>1016</td>\n",
       "      <td>49</td>\n",
       "      <td>1654340606</td>\n",
       "      <td>2022-06-04 11:03:26</td>\n",
       "    </tr>\n",
       "    <tr>\n",
       "      <th>Pozuelo</th>\n",
       "      <td>23.01</td>\n",
       "      <td>1015</td>\n",
       "      <td>31</td>\n",
       "      <td>1654340754</td>\n",
       "      <td>2022-06-04 11:05:54</td>\n",
       "    </tr>\n",
       "  </tbody>\n",
       "</table>\n",
       "</div>"
      ],
      "text/plain": [
       "            temp  pressure  humidity          dt            datetime\n",
       "Mieres     15.52      1016        64  1654340409 2022-06-04 11:00:09\n",
       "Sevilla    23.28      1016        53  1654340482 2022-06-04 11:01:22\n",
       "Zarautz    19.19      1016        80  1654340584 2022-06-04 11:03:04\n",
       "Barcelona  25.42      1014        70  1654340452 2022-06-04 11:00:52\n",
       "Madrid     22.94      1017        43  1654340151 2022-06-04 10:55:51\n",
       "Alpedrete  20.41      1016        49  1654340606 2022-06-04 11:03:26\n",
       "Pozuelo    23.01      1015        31  1654340754 2022-06-04 11:05:54"
      ]
     },
     "execution_count": 79,
     "metadata": {},
     "output_type": "execute_result"
    }
   ],
   "source": [
    "x['datetime'] = pd.to_datetime(x['dt'], unit='s')\n",
    "x"
   ]
  },
  {
   "cell_type": "code",
   "execution_count": 80,
   "metadata": {},
   "outputs": [
    {
     "data": {
      "text/html": [
       "<div>\n",
       "<style scoped>\n",
       "    .dataframe tbody tr th:only-of-type {\n",
       "        vertical-align: middle;\n",
       "    }\n",
       "\n",
       "    .dataframe tbody tr th {\n",
       "        vertical-align: top;\n",
       "    }\n",
       "\n",
       "    .dataframe thead th {\n",
       "        text-align: right;\n",
       "    }\n",
       "</style>\n",
       "<table border=\"1\" class=\"dataframe\">\n",
       "  <thead>\n",
       "    <tr style=\"text-align: right;\">\n",
       "      <th></th>\n",
       "      <th>temp</th>\n",
       "      <th>pressure</th>\n",
       "      <th>humidity</th>\n",
       "      <th>datetime</th>\n",
       "    </tr>\n",
       "  </thead>\n",
       "  <tbody>\n",
       "    <tr>\n",
       "      <th>Mieres</th>\n",
       "      <td>15.52</td>\n",
       "      <td>1016</td>\n",
       "      <td>64</td>\n",
       "      <td>2022-06-04 11:00:09</td>\n",
       "    </tr>\n",
       "    <tr>\n",
       "      <th>Sevilla</th>\n",
       "      <td>23.28</td>\n",
       "      <td>1016</td>\n",
       "      <td>53</td>\n",
       "      <td>2022-06-04 11:01:22</td>\n",
       "    </tr>\n",
       "    <tr>\n",
       "      <th>Zarautz</th>\n",
       "      <td>19.19</td>\n",
       "      <td>1016</td>\n",
       "      <td>80</td>\n",
       "      <td>2022-06-04 11:03:04</td>\n",
       "    </tr>\n",
       "    <tr>\n",
       "      <th>Barcelona</th>\n",
       "      <td>25.42</td>\n",
       "      <td>1014</td>\n",
       "      <td>70</td>\n",
       "      <td>2022-06-04 11:00:52</td>\n",
       "    </tr>\n",
       "    <tr>\n",
       "      <th>Madrid</th>\n",
       "      <td>22.94</td>\n",
       "      <td>1017</td>\n",
       "      <td>43</td>\n",
       "      <td>2022-06-04 10:55:51</td>\n",
       "    </tr>\n",
       "    <tr>\n",
       "      <th>Alpedrete</th>\n",
       "      <td>20.41</td>\n",
       "      <td>1016</td>\n",
       "      <td>49</td>\n",
       "      <td>2022-06-04 11:03:26</td>\n",
       "    </tr>\n",
       "    <tr>\n",
       "      <th>Pozuelo</th>\n",
       "      <td>23.01</td>\n",
       "      <td>1015</td>\n",
       "      <td>31</td>\n",
       "      <td>2022-06-04 11:05:54</td>\n",
       "    </tr>\n",
       "  </tbody>\n",
       "</table>\n",
       "</div>"
      ],
      "text/plain": [
       "            temp  pressure  humidity            datetime\n",
       "Mieres     15.52      1016        64 2022-06-04 11:00:09\n",
       "Sevilla    23.28      1016        53 2022-06-04 11:01:22\n",
       "Zarautz    19.19      1016        80 2022-06-04 11:03:04\n",
       "Barcelona  25.42      1014        70 2022-06-04 11:00:52\n",
       "Madrid     22.94      1017        43 2022-06-04 10:55:51\n",
       "Alpedrete  20.41      1016        49 2022-06-04 11:03:26\n",
       "Pozuelo    23.01      1015        31 2022-06-04 11:05:54"
      ]
     },
     "execution_count": 80,
     "metadata": {},
     "output_type": "execute_result"
    }
   ],
   "source": [
    "x = x.drop(['dt'], axis=1)\n",
    "x"
   ]
  },
  {
   "cell_type": "code",
   "execution_count": 81,
   "metadata": {},
   "outputs": [
    {
     "data": {
      "text/html": [
       "<div>\n",
       "<style scoped>\n",
       "    .dataframe tbody tr th:only-of-type {\n",
       "        vertical-align: middle;\n",
       "    }\n",
       "\n",
       "    .dataframe tbody tr th {\n",
       "        vertical-align: top;\n",
       "    }\n",
       "\n",
       "    .dataframe thead th {\n",
       "        text-align: right;\n",
       "    }\n",
       "</style>\n",
       "<table border=\"1\" class=\"dataframe\">\n",
       "  <thead>\n",
       "    <tr style=\"text-align: right;\">\n",
       "      <th></th>\n",
       "      <th></th>\n",
       "      <th>temp</th>\n",
       "      <th>pressure</th>\n",
       "      <th>humidity</th>\n",
       "    </tr>\n",
       "    <tr>\n",
       "      <th></th>\n",
       "      <th>datetime</th>\n",
       "      <th></th>\n",
       "      <th></th>\n",
       "      <th></th>\n",
       "    </tr>\n",
       "  </thead>\n",
       "  <tbody>\n",
       "    <tr>\n",
       "      <th>Mieres</th>\n",
       "      <th>2022-06-04 11:00:09</th>\n",
       "      <td>15.52</td>\n",
       "      <td>1016</td>\n",
       "      <td>64</td>\n",
       "    </tr>\n",
       "    <tr>\n",
       "      <th>Sevilla</th>\n",
       "      <th>2022-06-04 11:01:22</th>\n",
       "      <td>23.28</td>\n",
       "      <td>1016</td>\n",
       "      <td>53</td>\n",
       "    </tr>\n",
       "    <tr>\n",
       "      <th>Zarautz</th>\n",
       "      <th>2022-06-04 11:03:04</th>\n",
       "      <td>19.19</td>\n",
       "      <td>1016</td>\n",
       "      <td>80</td>\n",
       "    </tr>\n",
       "    <tr>\n",
       "      <th>Barcelona</th>\n",
       "      <th>2022-06-04 11:00:52</th>\n",
       "      <td>25.42</td>\n",
       "      <td>1014</td>\n",
       "      <td>70</td>\n",
       "    </tr>\n",
       "    <tr>\n",
       "      <th>Madrid</th>\n",
       "      <th>2022-06-04 10:55:51</th>\n",
       "      <td>22.94</td>\n",
       "      <td>1017</td>\n",
       "      <td>43</td>\n",
       "    </tr>\n",
       "    <tr>\n",
       "      <th>Alpedrete</th>\n",
       "      <th>2022-06-04 11:03:26</th>\n",
       "      <td>20.41</td>\n",
       "      <td>1016</td>\n",
       "      <td>49</td>\n",
       "    </tr>\n",
       "    <tr>\n",
       "      <th>Pozuelo</th>\n",
       "      <th>2022-06-04 11:05:54</th>\n",
       "      <td>23.01</td>\n",
       "      <td>1015</td>\n",
       "      <td>31</td>\n",
       "    </tr>\n",
       "  </tbody>\n",
       "</table>\n",
       "</div>"
      ],
      "text/plain": [
       "                                temp  pressure  humidity\n",
       "          datetime                                      \n",
       "Mieres    2022-06-04 11:00:09  15.52      1016        64\n",
       "Sevilla   2022-06-04 11:01:22  23.28      1016        53\n",
       "Zarautz   2022-06-04 11:03:04  19.19      1016        80\n",
       "Barcelona 2022-06-04 11:00:52  25.42      1014        70\n",
       "Madrid    2022-06-04 10:55:51  22.94      1017        43\n",
       "Alpedrete 2022-06-04 11:03:26  20.41      1016        49\n",
       "Pozuelo   2022-06-04 11:05:54  23.01      1015        31"
      ]
     },
     "execution_count": 81,
     "metadata": {},
     "output_type": "execute_result"
    }
   ],
   "source": [
    "x = x.set_index([x.index, 'datetime'])\n",
    "x"
   ]
  },
  {
   "cell_type": "code",
   "execution_count": 32,
   "metadata": {},
   "outputs": [
    {
     "data": {
      "text/plain": [
       "MultiIndex([(   'Mieres', 1654339987),\n",
       "            (  'Sevilla', 1654339840),\n",
       "            (  'Zarautz', 1654339824),\n",
       "            ('Barcelona', 1654339561),\n",
       "            (   'Madrid', 1654339994)],\n",
       "           names=[None, 'dt'])"
      ]
     },
     "execution_count": 32,
     "metadata": {},
     "output_type": "execute_result"
    }
   ],
   "source": [
    "x.index"
   ]
  }
 ],
 "metadata": {
  "interpreter": {
   "hash": "916dbcbb3f70747c44a77c7bcd40155683ae19c65e1c03b4aa3499c5328201f1"
  },
  "kernelspec": {
   "display_name": "Python 3.8.10 64-bit",
   "language": "python",
   "name": "python3"
  },
  "language_info": {
   "codemirror_mode": {
    "name": "ipython",
    "version": 3
   },
   "file_extension": ".py",
   "mimetype": "text/x-python",
   "name": "python",
   "nbconvert_exporter": "python",
   "pygments_lexer": "ipython3",
   "version": "3.8.10"
  },
  "orig_nbformat": 4
 },
 "nbformat": 4,
 "nbformat_minor": 2
}
