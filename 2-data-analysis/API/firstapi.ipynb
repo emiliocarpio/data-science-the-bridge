{
 "cells": [
  {
   "cell_type": "code",
   "execution_count": 26,
   "metadata": {},
   "outputs": [
    {
     "name": "stdout",
     "output_type": "stream",
     "text": [
      "https://api.openweathermap.org/data/2.5/weather?lat=37.3886303&lon=-5.9953403&appid=f275aa333c628e5a702c7d4f1fce6cdb\n"
     ]
    }
   ],
   "source": [
    "#openweather\n",
    "import requests\n",
    "import pandas as pd\n",
    "\n",
    "api_key = \"f275aa333c628e5a702c7d4f1fce6cdb\"\n",
    "\n",
    "URL = \"https://api.openweathermap.org/data/2.5/weather?lat=37.3886303&lon=-5.9953403&appid={0}\".format(api_key)\n",
    "#URL = \"http://api.openweathermap.org/geo/1.0/direct?q=Sevilla,ES&limit=5&appid={0}\".format(api_key)\n",
    "PARAMS = {}\n",
    "\n",
    "print(URL)\n",
    "\n",
    "r = requests.get(url = URL, params = PARAMS)"
   ]
  },
  {
   "cell_type": "code",
   "execution_count": 29,
   "metadata": {},
   "outputs": [
    {
     "data": {
      "text/plain": [
       "<Response [200]>"
      ]
     },
     "execution_count": 29,
     "metadata": {},
     "output_type": "execute_result"
    }
   ],
   "source": [
    "r"
   ]
  },
  {
   "cell_type": "code",
   "execution_count": 27,
   "metadata": {},
   "outputs": [],
   "source": [
    "data = r.json()\n",
    "\n",
    "\n"
   ]
  },
  {
   "cell_type": "code",
   "execution_count": 28,
   "metadata": {},
   "outputs": [
    {
     "data": {
      "text/plain": [
       "{'coord': {'lon': -5.9953, 'lat': 37.3886},\n",
       " 'weather': [{'id': 802,\n",
       "   'main': 'Clouds',\n",
       "   'description': 'scattered clouds',\n",
       "   'icon': '03d'}],\n",
       " 'base': 'stations',\n",
       " 'main': {'temp': 293.7,\n",
       "  'feels_like': 293.59,\n",
       "  'temp_min': 292.57,\n",
       "  'temp_max': 294.79,\n",
       "  'pressure': 1016,\n",
       "  'humidity': 68},\n",
       " 'visibility': 10000,\n",
       " 'wind': {'speed': 2.06, 'deg': 220},\n",
       " 'clouds': {'all': 40},\n",
       " 'dt': 1654333609,\n",
       " 'sys': {'type': 2,\n",
       "  'id': 2011488,\n",
       "  'country': 'ES',\n",
       "  'sunrise': 1654319046,\n",
       "  'sunset': 1654371646},\n",
       " 'timezone': 7200,\n",
       " 'id': 2510911,\n",
       " 'name': 'Seville',\n",
       " 'cod': 200}"
      ]
     },
     "execution_count": 28,
     "metadata": {},
     "output_type": "execute_result"
    }
   ],
   "source": [
    "data"
   ]
  },
  {
   "cell_type": "code",
   "execution_count": 36,
   "metadata": {},
   "outputs": [],
   "source": [
    "lon_sev = data['coord']['lon']"
   ]
  },
  {
   "cell_type": "code",
   "execution_count": 37,
   "metadata": {},
   "outputs": [],
   "source": [
    "lat_sev = data['coord']['lat']"
   ]
  },
  {
   "cell_type": "code",
   "execution_count": 41,
   "metadata": {},
   "outputs": [
    {
     "name": "stdout",
     "output_type": "stream",
     "text": [
      "https://api.openweathermap.org/data/2.5/weather?lon=-5.9953&lat=37.3886&appid=f275aa333c628e5a702c7d4f1fce6cdb\n"
     ]
    }
   ],
   "source": [
    "URL = \"https://api.openweathermap.org/data/2.5/weather?lon={0}&lat={1}&appid={2}\".format(lon_sev, lat_sev, api_key)\n",
    "PARAMS = {}\n",
    "\n",
    "print(URL)\n",
    "\n",
    "r = requests.get(url = URL, params = PARAMS)"
   ]
  },
  {
   "cell_type": "code",
   "execution_count": 42,
   "metadata": {},
   "outputs": [],
   "source": [
    "data = r.json()"
   ]
  },
  {
   "cell_type": "code",
   "execution_count": 43,
   "metadata": {},
   "outputs": [
    {
     "data": {
      "text/plain": [
       "{'coord': {'lon': -5.9953, 'lat': 37.3886},\n",
       " 'weather': [{'id': 802,\n",
       "   'main': 'Clouds',\n",
       "   'description': 'scattered clouds',\n",
       "   'icon': '03d'}],\n",
       " 'base': 'stations',\n",
       " 'main': {'temp': 294.38,\n",
       "  'feels_like': 294.26,\n",
       "  'temp_min': 292.57,\n",
       "  'temp_max': 295.95,\n",
       "  'pressure': 1016,\n",
       "  'humidity': 65},\n",
       " 'visibility': 10000,\n",
       " 'wind': {'speed': 2.06, 'deg': 250},\n",
       " 'clouds': {'all': 40},\n",
       " 'dt': 1654334378,\n",
       " 'sys': {'type': 2,\n",
       "  'id': 2011488,\n",
       "  'country': 'ES',\n",
       "  'sunrise': 1654319046,\n",
       "  'sunset': 1654371646},\n",
       " 'timezone': 7200,\n",
       " 'id': 2510170,\n",
       " 'name': 'Triana',\n",
       " 'cod': 200}"
      ]
     },
     "execution_count": 43,
     "metadata": {},
     "output_type": "execute_result"
    }
   ],
   "source": [
    "data"
   ]
  }
 ],
 "metadata": {
  "interpreter": {
   "hash": "2b6ce325e0eb8a9883773d8934a1d16c84ec0547ab7c164b4a9987049efb95f3"
  },
  "kernelspec": {
   "display_name": "Python 3.7.4 64-bit",
   "language": "python",
   "name": "python3"
  },
  "language_info": {
   "codemirror_mode": {
    "name": "ipython",
    "version": 3
   },
   "file_extension": ".py",
   "mimetype": "text/x-python",
   "name": "python",
   "nbconvert_exporter": "python",
   "pygments_lexer": "ipython3",
   "version": "3.7.4"
  },
  "orig_nbformat": 4
 },
 "nbformat": 4,
 "nbformat_minor": 2
}
