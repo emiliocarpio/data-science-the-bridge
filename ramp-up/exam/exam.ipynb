{
 "cells": [
  {
   "cell_type": "markdown",
   "metadata": {},
   "source": [
    "# Test DS-FT"
   ]
  },
  {
   "cell_type": "code",
   "execution_count": null,
   "metadata": {},
   "outputs": [],
   "source": [
    "# Escribe tu nombre y apellidos (apellido si solo tienes uno) en la variable:\n",
    "nombre_y_apellidos = \"Emilio Carpio\" \n",
    "# Correo electrónico\n",
    "correo_electronico = \"emiliocarpioguzman@gmail.com\""
   ]
  },
  {
   "cell_type": "code",
   "execution_count": null,
   "metadata": {},
   "outputs": [],
   "source": [
    "# Ejemplo de como queremos ver el código para más de un intento:\n",
    "\n",
    "# intento 1\n",
    "your code\n",
    "# intento 2\n",
    "your code"
   ]
  },
  {
   "cell_type": "markdown",
   "metadata": {},
   "source": [
    "### Ejercicio 1 (1 punto)\n",
    "En este ejercicio se va a crear una lista con los siguientes elementos. Primero, crearemos las variables que luego añadiremos a la lista. Las variables son las siguientes:\n",
    "\n",
    "1. Crea una variable llamada `edad` de tipo Integer que represente tu edad en años. \n",
    "2. Crea una variable llamada `nombre` de tipo String , concatenando tu nombre seguido de un espacio en blanco y la inicial de tu primer apellido a partir de la variable `nombre_y_apellidos`.\n",
    "3. Crea una variable llamada `altura` con el valor de tu altura en metros de tipo float.\n",
    "4. Crea una variable llamada `tipo_ord` de tipo Boolean True si usas Windows y False si usas Mac.\n",
    "5. Crea una variable llamada `nada` de tipo None cuyo valor sea None.\n",
    "6. Crea una variable llamada `lista_series` de tipo List que contenga las 5 series de TV que más te gusten. Cada elemento ha de ser de tipo String.\n",
    "7. Crea una variable llamada `tupla_ropa` de tipo Tuple con la marca de la prenda superior, inferior y calzado que llevas puesto.\n",
    "8. Crea una variable llamada `dict_info` con dos keys y dos values. Una key es `ciudad`, teniendo como value la ciudad en la que vives. Otra key es `portal`, teniendo como value el número de tu calle.\n",
    "9. Añade todos estos elementos en una lista llamada `lista_examen` en el orden de aparición **usando una función de lista**. \n",
    "10. Responde en un comentario a la siguiente pregunta: Si `lista_examen` tuviera 10 veces más elementos, ¿cómo te asegurarías de que no tiene ningún elemento repetido?\n"
   ]
  },
  {
   "cell_type": "code",
   "execution_count": 2,
   "metadata": {},
   "outputs": [
    {
     "name": "stdout",
     "output_type": "stream",
     "text": [
      "[27, 'Emilio Carpio', 187.5, True, None, ('the Wire', 'Person of Interest', 'The Office', 'The Fresh Prince of Bel-Air', 'Vikings'), ('camisa', 'chinos', 'zapatillas'), {'ciudad': 'Alpedrete', 'portal': 13}]\n"
     ]
    },
    {
     "data": {
      "text/plain": [
       "'\\nPara evitar los elementos repetidos utilizaría un bucle for que excluya todos los elementos repetidos en la lista.\\n'"
      ]
     },
     "execution_count": 2,
     "metadata": {},
     "output_type": "execute_result"
    }
   ],
   "source": [
    "edad = int(27)\n",
    "nombre = str(\"Emilio Carpio\")\n",
    "altura = float(187.5)\n",
    "tipo_ord = True\n",
    "nada = None\n",
    "lista_series = (\"the Wire\", \"Person of Interest\", \"The Office\", \"The Fresh Prince of Bel-Air\", \"Vikings\")\n",
    "tupla_ropa = (\"camisa\", \"chinos\", \"zapatillas\")\n",
    "dict_info = {'ciudad' : 'Alpedrete', 'portal' : 13}\n",
    "\n",
    "lista_examen = []\n",
    "\n",
    "lista_examen.append(edad)\n",
    "lista_examen.append(nombre)\n",
    "lista_examen.append(altura)\n",
    "lista_examen.append(tipo_ord)\n",
    "lista_examen.append(nada)\n",
    "lista_examen.append(lista_series)\n",
    "lista_examen.append(tupla_ropa)\n",
    "lista_examen.append(dict_info)\n",
    "\n",
    "print(lista_examen)\n",
    "\n",
    "'''\n",
    "Para evitar los elementos repetidos utilizaría un bucle for que excluya todos los elementos repetidos en la lista.\n",
    "'''"
   ]
  },
  {
   "cell_type": "markdown",
   "id": "ff4becae-86c4-46ab-9e09-3aeec5296700",
   "metadata": {},
   "source": [
    "### Ejercicio 2 (2 puntos)\n",
    "\n",
    "Para resolver este ejercicio necesitarás la lista del ejercicio anterior (`lista_examen`). Se recomienda leer cada punto hasta el final antes de resolver el ejercicio.\n",
    "\n",
    "Se repite para que quede aún más claro: **SOLO USAR LA VARIABLE** `lista_examen`. Usar las demás variables se calificará como error.  \n",
    "\n",
    "Mostrar por pantalla, sin uso de funciones (puedes usar print) ni bucles: \n",
    "- Un mensaje de presentación con tu nombre y edad\n",
    "- Un mensaje de presentación con tu nombre y edad a partir del diccionario\n",
    "- La segunda serie de TV y la penúltima contando por atrás.\n",
    "- La marca de tu calzado.\n",
    "- Si tu altura es menor que 1.80, muestra la marca de tu calzado, si no, la de tu prenda superior\n",
    "- Si la inicial de tu ciudad y de tu nombre son una consonante, mostrar la ciudad y tu nombre, si no,muestra solo la ciudad.  \n",
    "\n",
    "Mostrar por pantalla, con uso de un bucle `for`:\n",
    "- Todos los elementos de `lista_examen`.\n",
    "- Todos los elementos de `lista_examen` al revés\n",
    "- Todos aquellos elementos que se encuentren dentro de otra colección ordenada y ocupen un índice impar\n",
    "- La ciudad si coincide dentro de una lista_de_ciudades = [\"Barcelona\",\"Madrid\"], si no \"ciudad no encontrada\"  \n",
    "\n",
    "Con uso del bucle while, borra las series de TV por la cola hasta que tengas 2 series y guarda esas series borradas en una nueva lista `series_borradas`.  \n",
    "\n",
    "Añade esas series que has borrado en la mitad de la lista de tus series.\n",
    "    \n",
    "\n",
    "    "
   ]
  },
  {
   "cell_type": "code",
   "execution_count": 26,
   "metadata": {},
   "outputs": [
    {
     "name": "stdout",
     "output_type": "stream",
     "text": [
      "Hola me llamo Emilio Carpio y tengo 27 años\n",
      "Person of Interest , The Fresh Prince of Bel-Air\n",
      "Ganso\n",
      "RalphLauren\n",
      "A\n",
      "E\n",
      "Alpedrete\n",
      "27\n",
      "Emilio Carpio\n",
      "187.5\n",
      "True\n",
      "None\n",
      "('the Wire', 'Person of Interest', 'The Office', 'The Fresh Prince of Bel-Air', 'Vikings')\n",
      "('camisa', 'chinos', 'zapatillas')\n",
      "{'ciudad': 'Alpedrete', 'portal': 13}\n",
      "{'ciudad': 'Alpedrete', 'portal': 13}\n",
      "('camisa', 'chinos', 'zapatillas')\n",
      "('the Wire', 'Person of Interest', 'The Office', 'The Fresh Prince of Bel-Air', 'Vikings')\n",
      "None\n",
      "True\n",
      "187.5\n",
      "Emilio Carpio\n",
      "27\n"
     ]
    }
   ],
   "source": [
    "lista_examen\n",
    "#presentación nombre y edad\n",
    "print('Hola me llamo ' +  lista_examen[1] + ' y tengo ' + str(lista_examen[0]) + ' años')\n",
    "#presentación nombre y edad a partir del diccionario\n",
    "\n",
    "#segunda serie y penultima\n",
    "print(lista_examen[5][1], ',' , lista_examen[5][-2])\n",
    "\n",
    "#Marca zapato\n",
    "\n",
    "\n",
    "if lista_examen[6][2] == 'zapatillas':\n",
    "    print('Ganso')\n",
    "else:\n",
    "    print('No Brand')\n",
    "\n",
    "\n",
    "#altura > 180\n",
    "\n",
    "\n",
    "if lista_examen[2] > 180 and lista_examen[6][0] == 'camisa':\n",
    "    print('RalphLauren')\n",
    "else:\n",
    "    print('No Brand')\n",
    "\n",
    "#enumerate\n",
    "\n",
    "for word in lista_examen[7]['ciudad']:\n",
    "    city = lista_examen[7]['ciudad']\n",
    "    cities = city.split('lpedrete')\n",
    "print(cities[0])\n",
    "\n",
    "for word in lista_examen[1]:\n",
    "    name = lista_examen[1]\n",
    "    names = name.split('milio Carpio')\n",
    "print(names[0])\n",
    "\n",
    "if cities[0] in \"AEIOU\" and names[0] in \"AEIOU\":\n",
    "    print(lista_examen[7]['ciudad'])\n",
    "\n",
    "else:\n",
    "    print(lista_examen[7]['ciudad'], lista_examen[1])\n",
    "\n",
    "\n",
    "for i in lista_examen:\n",
    "    print(i)\n",
    "\n",
    "for j in reversed(lista_examen):\n",
    "    print(j)"
   ]
  },
  {
   "cell_type": "markdown",
   "metadata": {},
   "source": [
    "### Ejercicio 3 (2 puntos)\n",
    "\n",
    "#### Crear un programa que calcule la cuota de una hipoteca\n",
    "\n",
    "Las cuotas hipotecarias se calculan utilizando la fórmula del interés frances. \n",
    "\n",
    "La formula del interés frances es la siguiente:\n",
    "\\begin{align*}\n",
    "C=V \\frac{(1+i)^n i}{(1+i)^n -1}\n",
    "\\end{align*}\n",
    "\n",
    "\n",
    "    C = Cuota a pagar (mensual)\n",
    "    V = Cantidad del préstamo hipotecario\n",
    "    i = tipo de interés del período (mensual)\n",
    "    n = número de cuotas (mensual)\n",
    "\n",
    "1. Crea un programa que solicite al usuario los datos de su hipoteca (cantidad, interés **anual**, y plazo en **años**) y le devuelva la cuota **mensual** a pagar **sin funciones**.\n",
    "2. Calcula la cuota si la cantidad de la hipoteca son 250000 euros, el interés anual es del 3% y la quiere pagar en 20 años.\n",
    "3. Crea una función `calc_cuota_hip` que realiza el cálculo y cuyos argumentos sean `cantidad_euros`, `interes_anual` y `anios_pago`.\n",
    "4. Crea una función `calc_cuota_hip_noargs` que realice el mismo cálculo pero sin argumentos de entrada y que contenga otra función dentro `recoger_datos_usuario` que recoja los datos del usuario.\n"
   ]
  },
  {
   "cell_type": "code",
   "execution_count": 37,
   "metadata": {},
   "outputs": [
    {
     "name": "stdout",
     "output_type": "stream",
     "text": [
      "For a 20 year mortgage loan of $250,000\n",
      "at an annual interest rate of 3.00%\n",
      "you pay $1386.49 monthly\n",
      "----------------------------------------\n",
      "Total amount paid will be $332,758.56\n"
     ]
    }
   ],
   "source": [
    "import math\n",
    "\n",
    "cantidad_euros = int(input())\n",
    "interes_anual = int(input())\n",
    "anios_pago = int(input())\n",
    "\n",
    "interest_rate = (interes_anual)/(100 * 12)\n",
    "payment_num = anios_pago * 12\n",
    "monthly_payment = cantidad_euros * (interest_rate/(1-math.pow((1+interest_rate), (-payment_num))))\n",
    "total_amount = monthly_payment * int(anios_pago) * 12\n",
    "\n",
    "sf = '''\\\n",
    "For a {} year mortgage loan of ${:,}\n",
    "at an annual interest rate of {:.2f}%\n",
    "you pay ${:.2f} monthly'''\n",
    "print(sf.format(int(anios_pago), int(cantidad_euros), float(interes_anual), monthly_payment))\n",
    "print('-'*40)\n",
    "print(\"Total amount paid will be ${:,.2f}\".format(total_amount))"
   ]
  },
  {
   "cell_type": "code",
   "execution_count": 38,
   "metadata": {},
   "outputs": [
    {
     "name": "stdout",
     "output_type": "stream",
     "text": [
      "For a 24 year mortgage loan of $1,435,236,758\n",
      "at an annual interest rate of 2.00%\n",
      "you pay $6278881.62 monthly\n",
      "----------------------------------------\n",
      "Total amount paid will be $1,808,317,907.71\n"
     ]
    },
    {
     "data": {
      "text/plain": [
       "' result ...\\nFor a 30 year mortgage loan of $100,000\\nat an annual interest rate of 7.50%\\nyou pay $699.21 monthly\\n----------------------------------------\\nTotal amount paid will be $251,717.22\\n'"
      ]
     },
     "execution_count": 38,
     "metadata": {},
     "output_type": "execute_result"
    }
   ],
   "source": [
    "import math\n",
    "\n",
    "\n",
    "def calc_cuota_hip(cantidad_euros, interes_anual, anios_pago):\n",
    "\n",
    "    interest_rate = interes_anual/(100 * 12)\n",
    "    payment_num = anios_pago * 12\n",
    "    payment = cantidad_euros * \\\n",
    "        (interest_rate/(1-math.pow((1+interest_rate), (-payment_num))))\n",
    "    return payment\n",
    "\n",
    "\n",
    "cantidad_euros = input()\n",
    "interes_anual = input()\n",
    "anios_pago = input()\n",
    "monthly_payment = calc_cuota_hip(int(cantidad_euros), float(interes_anual), int(anios_pago))\n",
    "total_amount = monthly_payment * int(anios_pago) * 12\n",
    "\n",
    "# {:,} uses the comma as a thousands separator\n",
    "sf = '''\\\n",
    "For a {} year mortgage loan of ${:,}\n",
    "at an annual interest rate of {:.2f}%\n",
    "you pay ${:.2f} monthly'''\n",
    "print(sf.format(int(anios_pago), int(cantidad_euros), float(interes_anual), monthly_payment))\n",
    "print('-'*40)\n",
    "print(\"Total amount paid will be ${:,.2f}\".format(total_amount))\n"
   ]
  },
  {
   "cell_type": "code",
   "execution_count": 47,
   "metadata": {},
   "outputs": [
    {
     "name": "stdout",
     "output_type": "stream",
     "text": [
      "For a 40 year mortgage loan of $25,000 at an annual interest rate of 2.00% you pay $75.71 monthly\n",
      "----------------------------------------\n",
      "Total amount paid will be $36,339.08\n"
     ]
    }
   ],
   "source": [
    "import math\n",
    "\n",
    "def calc_cuota_hip_noargs():\n",
    "    \n",
    "    def recoger_datos_usuario():\n",
    "        cantidad_euros = int(input())\n",
    "        interes_anual = float(input())\n",
    "        anios_pago = int(input())\n",
    "        return \n",
    "\n",
    "    user_data = recoger_datos_usuario()\n",
    "    interest_rate = float(interes_anual)/(100 * 12)\n",
    "    payment_num = int(anios_pago) * 12\n",
    "    payment = int(cantidad_euros) * (interest_rate/(1-math.pow((1+interest_rate), (-payment_num))))\n",
    "    \n",
    "    return payment\n",
    "\n",
    "monthly_payment = calc_cuota_hip_noargs()\n",
    "total_amount = monthly_payment * int(anios_pago) * 12\n",
    "\n",
    "# {:,} uses the comma as a thousands separator\n",
    "sf = '''\\\n",
    "For a {} year mortgage loan of ${:,} at an annual interest rate of {:.2f}% you pay ${:.2f} monthly'''\n",
    "print(sf.format(int(anios_pago), int(cantidad_euros), float(interes_anual), monthly_payment))\n",
    "print('-'*40)\n",
    "print(\"Total amount paid will be ${:,.2f}\".format(total_amount))\n"
   ]
  },
  {
   "cell_type": "markdown",
   "metadata": {},
   "source": [
    "### Ejercicio 4 (2 puntos)\n",
    "\n",
    "1. Crea una clase \"Humano\" que tenga 4 atributos: \"ojos\"(int default 2), \"edad\"(int), \"altura\"(float) y \"nombre\"(str). Además, debe contar con dos métodos: \n",
    "\n",
    "- \"cumplir_edad\": al llamar a este método se debe sumar 1 al atributo edad del humano y que retorne la edad actualizada. \n",
    "- \"registro_nombre\" que recibe parametro \"nuevo_nombre\": al llamar a esta función con un parámetro de entrada, este método debe cambiar el nombre del humano por el \"nuevo_nombre\" y sin retornar nada\n",
    "\n",
    "2. Crea un humano llamado \"Cojoncio\" que tiene el doble de tu de edad (a partir de la variable `lista_examen`) y mide 10 centímetros menos que tu altura (a partir de la variable `lista_examen`). A \"Cojoncio\" nunca le gustó su nombre. Por eso, usa el método correspondiente para cambiarle su nombre por \"Goku\". Además, hoy es su cumpleaños por lo que usa el método correspondiente para aumentar su edad. Muestra tanto el nombre como la edad antes y después ejecutar los métodos.\n",
    "\n",
    "\n",
    "3. Documenta la clase con el estilo de Google\n"
   ]
  },
  {
   "cell_type": "code",
   "execution_count": 69,
   "metadata": {},
   "outputs": [
    {
     "name": "stdout",
     "output_type": "stream",
     "text": [
      "55\n",
      "Gpku\n",
      "177.5\n"
     ]
    }
   ],
   "source": [
    "class Humano():\n",
    "    def __init__(self, ojos, edad, altura, nombre):\n",
    "        self.ojos = int(2)\n",
    "        self.edad = int(edad)\n",
    "        self. altura = float(altura)\n",
    "        self.nombre = str(nombre)\n",
    "\n",
    "    def cumplir_edad():\n",
    "        bday = lista_examen[0]*2 + 1\n",
    "        return bday\n",
    "\n",
    "    def registro_nombre():\n",
    "        nuevo_nombre = str(input())\n",
    "        return nuevo_nombre\n",
    "\n",
    "nuevo_user = Humano(2, lista_examen[0]*2, lista_examen[2]-10, 'Cojoncio')\n",
    "\n",
    "nuevo_user.edad = Humano.cumplir_edad()\n",
    "nuevo_user.nombre = Humano.registro_nombre()\n",
    "\n",
    "print(nuevo_user.edad)\n",
    "print(nuevo_user.nombre)\n",
    "print(nuevo_user.altura)"
   ]
  }
 ],
 "metadata": {
  "interpreter": {
   "hash": "7c77fdb427e7cbc9bc1367dd530fc2b36aacdbbde1ac83c85833b10dfa8b831c"
  },
  "kernelspec": {
   "display_name": "Python 3.7.4 64-bit",
   "language": "python",
   "name": "python3"
  },
  "language_info": {
   "codemirror_mode": {
    "name": "ipython",
    "version": 3
   },
   "file_extension": ".py",
   "mimetype": "text/x-python",
   "name": "python",
   "nbconvert_exporter": "python",
   "pygments_lexer": "ipython3",
   "version": "3.7.4"
  },
  "orig_nbformat": 4
 },
 "nbformat": 4,
 "nbformat_minor": 2
}
