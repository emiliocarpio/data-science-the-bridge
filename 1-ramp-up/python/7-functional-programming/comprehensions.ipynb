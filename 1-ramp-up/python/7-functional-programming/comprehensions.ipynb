{
 "cells": [
  {
   "cell_type": "markdown",
   "metadata": {},
   "source": [
    "![imagen](./img/python.jpg)\n",
    "\n",
    "# Comprehensions\n",
    "### Autor: [Gustavo Martin Vela](https://www.linkedin.com/)\n",
    "\n",
    "La comprensión o comprehensions en Python son una de las características que una vez sabes usarlas, echarias mucho de menos si las quitaran. Se trata de un tipo de construcción que permite crear secuencias a partir de otras secuencias. Existen diferentes comprehensions soportadas:\n",
    "\n",
    "1. Comprensión de listas\n",
    "2. Comprensión de diccionarios\n",
    "3. Comprensión de sets\n",
    "4. Comprensión de generadores\n",
    "\n",
    "A continuación las explicaremos una por una. Una vez que entiendes el uso con las listas, cualquiera de las otras será entendia my fácilmente."
   ]
  },
  {
   "cell_type": "markdown",
   "metadata": {},
   "source": [
    "## 1. List comprehensions\n",
    "\n",
    "Las comprensiones de listas nos proporcionan una forma corta y concisa de crear listas.   \n",
    "Se usan con **corchetes []** y en su interior contienen una expresión seguida de un **bucle for** y cero o más **sentencias for o if**.   \n",
    "La expresión puede ser cualquier cosa que se te ocurra, lo que significa que puedes usar cualquier tipo de objetos en la lista. El resultado es una nueva lista creada tras evaluar las expresiones que haya dentro."
   ]
  },
  {
   "cell_type": "code",
   "execution_count": null,
   "metadata": {},
   "outputs": [],
   "source": [
    "input_list = [\"a\", \"b\", \"c\"]\n",
    "\n",
    "output_list = [out_exp for out_exp in input_list if out_exp == 2]"
   ]
  },
  {
   "cell_type": "markdown",
   "metadata": {},
   "source": [
    "Un ejemplo podria ser:"
   ]
  },
  {
   "cell_type": "code",
   "execution_count": 1,
   "metadata": {},
   "outputs": [
    {
     "name": "stdout",
     "output_type": "stream",
     "text": [
      "[0, 3, 6, 9, 12, 15, 18, 21, 24, 27]\n"
     ]
    }
   ],
   "source": [
    "mult_lst = [i for i in range(30) if i % 3 == 0]\n",
    "print(mult_lst)\n",
    "# Salida: [0, 3, 6, 9, 12, 15, 18, 21, 24, 27]"
   ]
  },
  {
<<<<<<< HEAD
<<<<<<< HEAD:ramp-up/python/7-functional-programming/comprehensions.ipynb
=======
>>>>>>> 39c4c06ab26810aadbfab6be112aa62c4758311c
   "cell_type": "code",
   "execution_count": null,
   "metadata": {},
   "outputs": [],
   "source": []
  },
  {
=======
>>>>>>> 39c4c06ab26810aadbfab6be112aa62c4758311c
   "cell_type": "markdown",
   "metadata": {},
   "source": [
    "Esto puede ser realmente útil para crear listas de manera rápida.   \n",
    "De hecho hay gente que las prefiere sobre el uso de la función filter.   \n",
    "Las comprensiones de listas son la mejor opción si por ejemplo quieres añadir elementos a una lista fruto de un bucle for.   "
   ]
  },
  {
   "cell_type": "code",
   "execution_count": null,
   "metadata": {},
   "outputs": [],
   "source": [
    "squared = []\n",
    "for x in range(10):\n",
    "    squared.append(x**2)\n",
    "\n",
    "squared = [x**2 for x in range(10)]"
   ]
  },
  {
   "cell_type": "markdown",
   "metadata": {},
   "source": [
    "## 2. Dict comprehensions\n",
    "\n",
    "Los diccionarios se usan de una manera muy similar. Aquí vemos un ejemplo:"
   ]
  },
  {
   "cell_type": "markdown",
   "metadata": {},
   "source": [
    "Podemos combinar los valores de las llaves o keys del diccionario que sean las mismas pero en mayúsculas o minúsculas. Es decir, el contenido de “a” y “A” se juntaría."
   ]
  },
  {
   "cell_type": "code",
   "execution_count": 2,
   "metadata": {},
   "outputs": [],
   "source": [
    "mcase = {'a': 10, 'b': 34, 'A': 7, 'Z': 3}\n",
    "\n",
    "mcase_frequency = {\n",
    "    k.lower(): mcase.get(k.lower(), 0) + mcase.get(k.upper(), 0)\n",
    "    for k in mcase.keys()\n",
    "}\n",
    "\n",
    "# mcase_frequency == {'a': 17, 'z': 3, 'b': 34}"
   ]
  },
  {
   "cell_type": "markdown",
   "metadata": {},
   "source": [
    "Podemos invertir las llaves y valores de un diccionario."
   ]
  },
  {
   "cell_type": "code",
   "execution_count": 4,
   "metadata": {},
   "outputs": [
    {
     "data": {
      "text/plain": [
       "{'Madrid': 'X'}"
      ]
     },
     "execution_count": 4,
     "metadata": {},
     "output_type": "execute_result"
    }
   ],
   "source": [
    "some_dict = {\"X\": \"Madrid\"}\n",
    "\n",
    "{v: k for k, v in some_dict.items()}"
   ]
  },
  {
   "cell_type": "markdown",
   "metadata": {},
   "source": [
    "## 3. Set comprehensions\n",
    "\n",
    "Las comprensiones en los sets son muy similares a las listas. La única diferencia es que es necesario hacer uso de **llaves {}** en vez de corchetes."
   ]
  },
  {
   "cell_type": "code",
   "execution_count": 5,
   "metadata": {},
   "outputs": [
    {
     "name": "stdout",
     "output_type": "stream",
     "text": [
      "{1, 4}\n"
     ]
    }
   ],
   "source": [
    "squared = {x**2 for x in [1, 1, 2]}\n",
    "print(squared)\n",
    "# Output: {1, 4}"
   ]
  },
  {
   "cell_type": "markdown",
   "metadata": {},
   "source": [
    "## 4. Generator comprehensions\n",
    "\n",
    "Por último, tenemos los generadores. La única diferencia es que no asignan memoria para toda la lista, sino que la asignan elemento a elemento, lo que las hace mas eficientes desde el punto de vista del uso de la memoria."
   ]
  },
  {
   "cell_type": "code",
   "execution_count": null,
   "metadata": {},
   "outputs": [],
   "source": [
    "multiples_gen = (i for i in range(30) if i % 3 == 0)\n",
    "print(multiples_gen)\n",
    "# Salida: <generator object <genexpr> at 0x7fdaa8e407d8>\n",
    "for x in multiples_gen:\n",
    "  print(x)\n",
    "  # Salida numbers"
   ]
  }
 ],
 "metadata": {
  "kernelspec": {
   "display_name": "Python 3",
   "language": "python",
   "name": "python3"
  },
  "language_info": {
   "codemirror_mode": {
    "name": "ipython",
    "version": 3
   },
   "file_extension": ".py",
   "mimetype": "text/x-python",
   "name": "python",
   "nbconvert_exporter": "python",
   "pygments_lexer": "ipython3",
   "version": "3.8.10"
  }
 },
 "nbformat": 4,
 "nbformat_minor": 4
}
