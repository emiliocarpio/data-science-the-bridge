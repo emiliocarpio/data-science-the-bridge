{
 "cells": [
  {
   "cell_type": "code",
   "execution_count": null,
   "metadata": {},
   "outputs": [],
   "source": [
    "!pip install pymysql"
   ]
  },
  {
   "cell_type": "code",
   "execution_count": null,
   "metadata": {},
   "outputs": [],
   "source": [
    "!pip install sqlalchemy"
   ]
  },
  {
   "cell_type": "code",
   "execution_count": null,
   "metadata": {},
   "outputs": [],
   "source": [
    "!pip install tqdm"
   ]
  },
  {
   "cell_type": "code",
   "execution_count": null,
   "metadata": {},
   "outputs": [],
   "source": [
    "import csv\n",
    "from tqdm import tqdm\n",
    "import pymysql\n",
    "from sqlalchemy import create_engine, inspect\n",
    "import pandas as pd\n",
    "from urllib.parse import quote\n",
    "import json\n",
    "\n",
    "from secrets import db_user, db_pass, db_host, db_name"
   ]
  },
  {
   "cell_type": "code",
   "execution_count": null,
   "metadata": {},
   "outputs": [],
   "source": [
    "user = db_user\n",
    "passw = quote(db_pass)\n",
    "host = db_host\n",
    "db = db_name"
   ]
  },
  {
   "cell_type": "code",
   "execution_count": null,
   "metadata": {},
   "outputs": [],
   "source": [
    "connection_str = \"mysql+pymysql://{0}:{1}@{2}/{3}\" \\\n",
    "    .format(user, passw, host, db)\n",
    "cnx = create_engine(connection_str)    "
   ]
  },
  {
   "cell_type": "code",
   "execution_count": null,
   "metadata": {},
   "outputs": [],
   "source": [
    "\n",
    "inspector = inspect(cnx)\n",
    "tables_dict = {}\n",
    "for table_name in tqdm(inspector.get_table_names()):\n",
    "    fields_dict = {}\n",
    "    for column in inspector.get_columns(table_name):\n",
    "        if \"INT\" in str(column[\"type\"])\\\n",
    "            or \"DECIMAL\" in str(column[\"type\"]) \\\n",
    "            or \"BOOL\" in str(column[\"type\"]):\n",
    "            quote = False\n",
    "        else:\n",
    "            quote = True\n",
    "        fields_dict[column[\"name\"]] = quote\n",
    "    tables_dict[table_name] = fields_dict"
   ]
  },
  {
   "cell_type": "code",
   "execution_count": null,
   "metadata": {},
   "outputs": [],
   "source": [
    "#print(json.dumps(tables_dict, indent = 4))"
   ]
  },
  {
   "cell_type": "code",
   "execution_count": null,
   "metadata": {},
   "outputs": [],
   "source": [
    "sales_channel_df = pd.read_sql(\n",
    "    'SELECT * FROM sales_channel', cnx)"
   ]
  },
  {
   "cell_type": "code",
   "execution_count": null,
   "metadata": {},
   "outputs": [],
   "source": [
    "sales_channel_df.info()"
   ]
  },
  {
   "cell_type": "code",
   "execution_count": null,
   "metadata": {},
   "outputs": [],
   "source": [
    "sales_channel_df.head()"
   ]
  },
  {
   "cell_type": "code",
   "execution_count": null,
   "metadata": {},
   "outputs": [],
   "source": [
    "exceptions_dict = []\n",
    "\n",
    "def insert_data_into_db(filepath, table):\n",
    "    table_structure_dict = tables_dict[table]\n",
    "    full_query = \"\"\n",
    "    query_start = \"INSERT INTO {0} (\".format(table)\n",
    "    with open(filepath) as f:\n",
    "        csv_reader = csv.reader(f, delimiter = ',')\n",
    "        for num, row in enumerate(csv_reader):\n",
    "            if num == 0:\n",
    "                query_fields = \",\".join(field_name for field_name in row) \\\n",
    "                    + \") \"\n",
    "                quoting_lst = [table_structure_dict[field_name] \\\n",
    "                    for field_name in row] \n",
    "                query_values = \"VALUES (\" \\\n",
    "                    + \",\".join([\"%s\" for field_name in row]) \\\n",
    "                    + \")\" \n",
    "            else:\n",
    "                pass  \n",
    "        query = query_start + query_fields + query_values  \n",
    "    num = 0\n",
    "    with open(filepath) as f:\n",
    "        csv_reader = csv.reader(f, delimiter = ',')    \n",
    "        for num, row in enumerate(tqdm(csv_reader)):\n",
    "            if num >= 1:\n",
    "                values_lst = []\n",
    "                #query_values = \"VALUES (\" \\\n",
    "                for value, quote in zip(row, quoting_lst):\n",
    "                    if value == '' \\\n",
    "                        or value.upper() == 'NONE' \\\n",
    "                        or value.upper() == 'NULL':\n",
    "                        value_norm = None\n",
    "                    else:\n",
    "                        value_norm = \"{0}\".format(value) \n",
    "                    values_lst.append(value_norm)\n",
    "                try:                   \n",
    "                    id = cnx.execute(query, values_lst)\n",
    "                except Exception as e:\n",
    "                    exception_subdict = {}\n",
    "                    exception_subdict[\"EXC\"] = e\n",
    "                    exception_subdict[\"VALUES\"] = values_lst\n",
    "                    exceptions_dict[num] = \"Exc: {0}: {1}\".format(e, values_lst)\n",
    "                    pass\n",
    "            else:\n",
    "                pass\n",
    "    return exceptions_dict\n",
    "#query = \"INSERT INTO  `database_name`.`student` (`name` ,`class` ,`mark` ,`sex`) VALUES(%s,%s,%s,%s)\"\n",
    "#my_data=('King','Five',45,'male')   \n",
    "#id=my_conn.execute(query,my_data)"
   ]
  },
  {
   "cell_type": "code",
   "execution_count": null,
   "metadata": {},
   "outputs": [],
   "source": [
    "exceptions_dict = insert_data_into_db(\"/home/sugus/Downloads/articles.csv\", \"article\")"
   ]
  },
  {
   "cell_type": "code",
   "execution_count": 102,
   "metadata": {},
   "outputs": [],
   "source": [
    "articles_df = pd.read_csv(\n",
    "    \"/home/sugus/Downloads/articles.csv\",\n",
    "    sep = ',', quotechar = '\"',\n",
    "    encoding = 'utf8')"
   ]
  },
  {
   "cell_type": "code",
   "execution_count": 104,
   "metadata": {},
   "outputs": [
    {
     "name": "stdout",
     "output_type": "stream",
     "text": [
      "<class 'pandas.core.frame.DataFrame'>\n",
      "RangeIndex: 105542 entries, 0 to 105541\n",
      "Data columns (total 25 columns):\n",
      " #   Column                        Non-Null Count   Dtype \n",
      "---  ------                        --------------   ----- \n",
      " 0   article_id                    105542 non-null  int64 \n",
      " 1   product_code                  105542 non-null  int64 \n",
      " 2   prod_name                     105542 non-null  object\n",
      " 3   product_type_no               105542 non-null  int64 \n",
      " 4   product_type_name             105542 non-null  object\n",
      " 5   product_group_name            105542 non-null  object\n",
      " 6   graphical_appearance_no       105542 non-null  int64 \n",
      " 7   graphical_appearance_name     105542 non-null  object\n",
      " 8   colour_group_code             105542 non-null  int64 \n",
      " 9   colour_group_name             105542 non-null  object\n",
      " 10  perceived_colour_value_id     105542 non-null  int64 \n",
      " 11  perceived_colour_value_name   105542 non-null  object\n",
      " 12  perceived_colour_master_id    105542 non-null  int64 \n",
      " 13  perceived_colour_master_name  105542 non-null  object\n",
      " 14  department_no                 105542 non-null  int64 \n",
      " 15  department_name               105542 non-null  object\n",
      " 16  index_code                    105542 non-null  object\n",
      " 17  index_name                    105542 non-null  object\n",
      " 18  index_group_no                105542 non-null  int64 \n",
      " 19  index_group_name              105542 non-null  object\n",
      " 20  section_no                    105542 non-null  int64 \n",
      " 21  section_name                  105542 non-null  object\n",
      " 22  garment_group_no              105542 non-null  int64 \n",
      " 23  garment_group_name            105542 non-null  object\n",
      " 24  detail_desc                   105126 non-null  object\n",
      "dtypes: int64(11), object(14)\n",
      "memory usage: 20.1+ MB\n"
     ]
    }
   ],
   "source": [
    "articles_df.info()"
   ]
  },
  {
   "cell_type": "code",
   "execution_count": 108,
   "metadata": {},
   "outputs": [],
   "source": [
    "articles_df.to_sql('article', con = cnx, \n",
    "    index = False, if_exists = 'append',\n",
    "    chunksize = 1000, method = 'multi')"
   ]
  },
  {
   "cell_type": "code",
   "execution_count": null,
   "metadata": {},
   "outputs": [],
   "source": []
  }
 ],
 "metadata": {
  "interpreter": {
   "hash": "916dbcbb3f70747c44a77c7bcd40155683ae19c65e1c03b4aa3499c5328201f1"
  },
  "kernelspec": {
   "display_name": "Python 3.8.10 64-bit",
   "language": "python",
   "name": "python3"
  },
  "language_info": {
   "codemirror_mode": {
    "name": "ipython",
    "version": 3
   },
   "file_extension": ".py",
   "mimetype": "text/x-python",
   "name": "python",
   "nbconvert_exporter": "python",
   "pygments_lexer": "ipython3",
   "version": "3.8.10"
  },
  "orig_nbformat": 4
 },
 "nbformat": 4,
 "nbformat_minor": 2
}
