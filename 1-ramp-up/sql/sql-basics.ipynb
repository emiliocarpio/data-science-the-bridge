{
 "cells": [
  {
   "cell_type": "markdown",
   "metadata": {},
   "source": [
    "## SQL BASICS\n"
   ]
  },
  {
   "cell_type": "markdown",
   "metadata": {},
   "source": [
    "En este tutorial, trabajaremos con un conjunto de datos del servicio de bicicletas compartidas de AUSTIN, que incluye datos sobre los viajes realizados con el servicio.  \n",
    "Comenzaremos analizando un poco las bases de datos, qué son y por qué las usamos, antes de comenzar a escribir algunas consultas propias en SQL."
   ]
  },
  {
   "cell_type": "markdown",
   "metadata": {},
   "source": [
    "### Conceptos básicos de SQL: bases de datos relacionales  \n",
    "\n",
    "Una base de datos relacional es una base de datos que almacena información relacionada en varias tablas y te permite consultar información en más de una tabla al mismo tiempo.   \n",
    "\n",
    "Es más fácil entender cómo funciona esto pensando en un ejemplo. Imagina que tienes una empresa y quieres realizar un seguimiento de la información de tus ventas. Puede configurar una hoja de cálculo en Excel con toda la información de la que desea realizar un seguimiento en columnas separadas: número de pedido, fecha, monto adeudado, número de seguimiento del envío, nombre del cliente, dirección del cliente y número de teléfono del cliente.  \n",
    "\n",
    "Esta configuración funcionaría bien para rastrear la información que necesita para comenzar, pero a medida que comienza a recibir pedidos repetidos del mismo cliente, encontrará que su nombre, dirección y número de teléfono se almacenan en varias filas de su hoja de cálculo.\n",
    "\n",
    "A medida que su negocio crece y aumenta la cantidad de pedidos que está rastreando, estos datos redundantes ocuparán un espacio innecesario y, en general, disminuirán la eficiencia de su sistema de seguimiento de ventas. También puede tener problemas con la integridad de los datos. No hay garantía, por ejemplo, de que cada campo se complete con el tipo de datos correcto o que el nombre y la dirección se ingresen exactamente de la misma manera cada vez."
   ]
  },
  {
   "cell_type": "code",
   "execution_count": null,
   "metadata": {},
   "outputs": [],
   "source": [
    "import pandas as pd\n",
    "file = \"https://raw.githubusercontent.com/sugus-labs/data-science-the-bridge/main/ramp-up/python/6-modules/datos-prueba.csv\"\n",
    "trips_df = pd.read_csv(file)"
   ]
  },
  {
   "cell_type": "code",
   "execution_count": null,
   "metadata": {},
   "outputs": [],
   "source": [
    "trips_df.head(10)"
   ]
  },
  {
   "cell_type": "markdown",
   "metadata": {},
   "source": [
    "Con una base de datos relacional se evita todos estos problemas. Puede configurar dos mesas, una para pedidos y otra para clientes. La tabla de 'clientes' incluiría un número de identificación único para cada cliente, junto con el nombre, la dirección y el número de teléfono que ya estábamos rastreando. La tabla de \"pedidos\" incluiría su número de pedido, la fecha, el monto adeudado, el número de seguimiento y, en lugar de un campo separado para cada elemento de los datos del cliente, tendría una columna para la identificación del cliente.\n",
    "\n",
    "Esto nos permite obtener toda la información del cliente para cualquier pedido dado, pero solo tenemos que almacenarla una vez en nuestra base de datos en lugar de volver a enumerarla para cada pedido."
   ]
  },
  {
   "cell_type": "markdown",
   "metadata": {},
   "source": [
    "Nuestro conjunto de datos.   \n",
    "Empecemos echando un vistazo a nuestra base de datos. La base de datos tiene dos tablas trips y stations.  \n",
    "Para empezar, solo miraremos la tabla trips que contiene las siguientes columnas:"
   ]
  },
  {
   "cell_type": "code",
   "execution_count": null,
   "metadata": {
    "vscode": {
     "languageId": "sql"
    }
   },
   "outputs": [],
   "source": [
    "DESC data-science-349808.austin_bikeshare.bikeshare_stations;\n",
    "\n",
    "SELECT *\n",
    "FROM data-science-349808.austin_bikeshare.INFORMATION_SCHEMA.COLUMNS\n",
    "WHERE table_name = 'bikeshare_stations';"
   ]
  },
  {
   "cell_type": "markdown",
   "metadata": {},
   "source": [
    "Nuestro análisis\n",
    "Con esta información y los comandos SQL que aprenderemos en breve,   \n",
    "aquí hay algunas preguntas que intentaremos responder en el transcurso de esta publicación:  \n",
    "\n",
    "¿Cuál fue la duración del viaje más largo?  \n",
    "¿Cuántos viajes realizaron los usuarios 'registrados'?  \n",
    "¿Cuál fue la duración promedio del viaje?  \n",
    "¿Los usuarios registrados o casuales hacen viajes más largos?  \n",
    "¿Qué bicicleta se usó para la mayoría de los viajes?  \n",
    "¿Cuál es la duración media de los viajes de los usuarios mayores de 30 años?   \n",
    " \n",
    "Los comandos SQL que usaremos para responder estas preguntas son:  \n",
    "\n",
    "**SELECT**  \n",
    "**WHERE**   \n",
    "**LIMIT**  \n",
    "**ORDER BY**  \n",
    "**GROUP BY**  \n",
    "**AND**  \n",
    "**OR**  \n",
    "**MIN**  \n",
    "**MAX**  \n",
    "**AVG**  \n",
    "**SUM**  \n",
    "**COUNT**  \n"
   ]
  },
  {
   "cell_type": "markdown",
   "metadata": {},
   "source": [
    "#### SELECT\n",
    "\n",
    "El primer comando con el que trabajaremos es SELECT.  \n",
    "SELECT será la base de casi todas las consultas que escribimos: le dice a la base de datos qué columnas queremos ver.   \n",
    "Podemos especificar columnas por nombre (separadas por comas) o usar el comodín * para devolver cada columna de la tabla.   \n",
    "\n",
    "Además de las columnas que queremos recuperar, también tenemos que decirle a la base de datos de qué tabla obtenerlas.   \n",
    " Para ello utilizamos la palabra clave FROM seguida del nombre de la tabla. \n",
    "\n"
   ]
  },
  {
   "cell_type": "code",
   "execution_count": null,
   "metadata": {
    "vscode": {
     "languageId": "sql"
    }
   },
   "outputs": [],
   "source": [
    "SELECT * \n",
    "FROM data-science-349808.austin_bikeshare.bikeshare_trips;"
   ]
  },
  {
   "cell_type": "markdown",
   "metadata": {},
   "source": [
    "#### LIMIT\n",
    "\n",
    "El siguiente comando que debemos saber antes de comenzar a ejecutar consultas en nuestra base de datos de Hubway es LIMIT.   \n",
    "LIMIT simplemente le dice a la base de datos cuántas filas desea que devuelva.\n",
    "\n",
    "La SELECT consulta que vimos en la sección anterior devolvería la información solicitada para cada fila de la tabla,  \n",
    "pero a veces eso podría significar una gran cantidad de datos. Puede que no lo queramos todo.\n",
    "\n",
    "Simplemente agregamos el LIMITcomando y luego un número que representa el número de filas que queremos que se devuelvan.   \n",
    "En este caso, usamos 10, pero puede reemplazarlo con cualquier número para obtener la cantidad adecuada de datos    \n",
    "para el proyecto en el que está trabajando."
   ]
  },
  {
   "cell_type": "code",
   "execution_count": null,
   "metadata": {
    "vscode": {
     "languageId": "sql"
    }
   },
   "outputs": [],
   "source": [
    "SELECT * \n",
    "FROM data-science-349808.austin_bikeshare.bikeshare_trips LIMIT 10;"
   ]
  },
  {
   "cell_type": "markdown",
   "metadata": {},
   "source": [
    "#### ORDER BY\n",
    "\n",
    "El comando final que necesitamos saber antes de que podamos responder la primera de nuestras preguntas es ORDER BY.     \n",
    "Este comando nos permite ordenar la base de datos en una columna determinada.  \n",
    "\n",
    "Para usarlo, simplemente especificamos el nombre de la columna que nos gustaría ordenar.   \n",
    "Por defecto, ORDER BY ordena en orden ascendente. Si deseamos especificar en qué orden debe ordenarse la base de datos,     \n",
    "podemos agregar la palabra clave ASCpara orden ascendente o DESC para orden descendente.  \n",
    "\n",
    "Por ejemplo, si quisiéramos ordenar la tabla trips de la más corta duracion a la más larga,     \n",
    "para responder nuestra primera pregunta: ¿Cuál fue la duración del viaje más largo?   "
   ]
  },
  {
   "cell_type": "code",
   "execution_count": null,
   "metadata": {
    "vscode": {
     "languageId": "sql"
    }
   },
   "outputs": [],
   "source": [
    "SELECT * \n",
    "FROM data-science-349808.austin_bikeshare.bikeshare_trips \n",
    "ORDER BY duration_minutes DESC;"
   ]
  },
  {
   "cell_type": "markdown",
   "metadata": {},
   "source": [
    "#### WHERE\n",
    "\n",
    "Los comandos anteriores son excelentes para extraer información ordenada para columnas particulares,    \n",
    "pero ¿qué pasa si hay un subconjunto específico de datos que queremos ver?    \n",
    "Ahí es donde WHERE entra en juego. El comando WHERE nos permite usar un operador lógico para especificar qué filas deben devolverse.    \n",
    "Por ejemplo, podría usar el siguiente comando para devolver cada viaje realizado por una bicicleta.\n",
    "\n",
    "Se usan comillas en esta consulta si el campo se almacena como una cadena.  \n",
    "Si la columna contuviera tipos de datos numéricos, las comillas no serían necesarias."
   ]
  },
  {
   "cell_type": "code",
   "execution_count": null,
   "metadata": {
    "vscode": {
     "languageId": "sql"
    }
   },
   "outputs": [],
   "source": [
    "SELECT * \n",
    "FROM data-science-349808.austin_bikeshare.bikeshare_trips \n",
    "WHERE duration_minutes < 20;"
   ]
  },
  {
   "cell_type": "markdown",
   "metadata": {},
   "source": [
    "También podemos combinar múltiples pruebas lógicas en nuestra WHERE usando AND o OR.   \n",
    "Si, por ejemplo, en nuestra consulta anterior solo hubiésemos querido devolver los viajes con un duration tiempo inferior a 20 minutos   \n",
    "que también tuvieran una estacion registrada, podríamos utilizar AND para especificar ambas condiciones.\n",
    "\n",
    "Usa paréntesis para separar cada prueba lógica, como se muestra en el bloque de código a continuación. \n",
    "Esto no es estrictamente necesario para que el código funcione,   \n",
    "pero los paréntesis facilitan la comprensión de las consultas a medida que aumenta la complejidad."
   ]
  },
  {
   "cell_type": "code",
   "execution_count": null,
   "metadata": {
    "vscode": {
     "languageId": "sql"
    }
   },
   "outputs": [],
   "source": [
    "SELECT * \n",
    "FROM data-science-349808.austin_bikeshare.bikeshare_trips \n",
    "WHERE (duration_minutes < 20)\n",
    "    AND (start_station_id = 2564);"
   ]
  },
  {
   "cell_type": "markdown",
   "metadata": {},
   "source": [
    "#### GROUP BY \n",
    "\n",
    "GROUP BY separa las filas en grupos según el contenido de una columna en particular    \n",
    "y nos permite realizar funciones agregadas en cada grupo.\n",
    "\n",
    "Cuando usamos GROUP BY, la base de datos separará cada una de las filas en un grupo diferente según el valor de la columna,   \n",
    "de la misma manera que podríamos separar una baraja de cartas en diferentes palos.   \n",
    "Podemos imaginarnos haciendo dos montones, uno de todos los machos, uno de todas las hembras.\n",
    "\n",
    "Una vez que tengamos nuestras dos pilas separadas, la base de datos realizará cualquier función agregada en nuestra consulta  \n",
    "en cada una de ellas a su vez.\n",
    "\n",
    "Al igual que con cada una de nuestras consultas hasta ahora, comenzaremos con SELECT para decirle a la base de datos qué información queremos ver.  \n",
    "También incluiremos GROUP BY para separar nuestros datos por tipo de suscripción."
   ]
  },
  {
   "cell_type": "markdown",
   "metadata": {},
   "source": [
    "**GROUP BY** se puede usar con **MIN**, **MAX**, **SUM**, **COUNT**, **AVG**."
   ]
  },
  {
   "cell_type": "code",
   "execution_count": null,
   "metadata": {
    "vscode": {
     "languageId": "sql"
    }
   },
   "outputs": [],
   "source": [
    "SELECT \n",
    "    start_station_id, \n",
    "    AVG(duration_minutes) AS \"Average Minutes\"\n",
    "FROM data-science-349808.austin_bikeshare.bikeshare_trips\n",
    "GROUP BY start_station_id;"
   ]
  },
  {
   "cell_type": "code",
   "execution_count": null,
   "metadata": {
    "vscode": {
     "languageId": "sql"
    }
   },
   "outputs": [],
   "source": [
    "SELECT \n",
    "    start_station_id, \n",
    "    MAX(duration_minutes) AS \"Maximum Minutes\"\n",
    "FROM data-science-349808.austin_bikeshare.bikeshare_trips\n",
    "GROUP BY start_station_id;"
   ]
  },
  {
   "cell_type": "markdown",
   "metadata": {},
   "source": [
    "#### JOIN\n",
    "\n",
    "Hasta ahora hemos estado analizando consultas que solo extraen datos de la tabla trips.  \n",
    "Sin embargo, una de las razones por las que SQL es tan poderoso\n",
    "es que nos permite extraer datos de varias tablas en la misma consulta.\n",
    "\n",
    "Nuestra base de datos de bicicletas compartidas contiene una segunda tabla, stations. \n",
    "La tabla stations contiene información sobre cada estación en la red e incluye una columna id   \n",
    "a la que hace referencia la tabla trips.\n",
    "\n",
    "Para decirle a la base de datos cómo están conectadas las tablas usamos JOIN y ON. \n",
    "JOIN especifica qué tablas deben estar conectadas y ON especifica qué columnas de cada tabla están relacionadas.\n",
    "\n",
    "Vamos a utilizar una combinación interna, lo que significa que las filas solo se devolverán   \n",
    "donde haya una coincidencia en las columnas especificadas en ON.   \n",
    "En este ejemplo, querremos usar JOIN cualquier tabla que no hayamos incluido en el comando FROM.    \n",
    "Así que podemos usar FROM trips INNER JOIN stations o FROM stations INNER JOIN trips."
   ]
  },
  {
   "cell_type": "code",
   "execution_count": null,
   "metadata": {
    "vscode": {
     "languageId": "sql"
    }
   },
   "outputs": [],
   "source": [
    "SELECT \n",
    "    trips.start_station_id, \n",
    "    stations.name, \n",
    "    trips.duration_minutes\n",
    "FROM data-science-349808.austin_bikeshare.bikeshare_trips AS trips\n",
    "INNER JOIN data-science-349808.austin_bikeshare.bikeshare_stations AS stations\n",
    "ON trips.start_station_id = stations.station_id;"
   ]
  },
  {
   "cell_type": "markdown",
   "metadata": {},
   "source": [
    "##### TIPOS de JOINS\n",
    "\n",
    "Existen varios tipos de JOINs, pero los que nos interesan son basicamente tres:\n",
    "\n",
    "- INNER JOIN\n",
    "- LEFT JOIN\n",
    "- RIGHT JOIN\n",
    "\n",
    "##### INNER JOIN\n",
    "\n",
    "El INNER JOIN se queda con los valores que coincidan en ambas tablas, es decir, cruza dos tablas y busca coincidencias por clave, en caso de que no hay coincidencias, elimina las filas que no tengan coincidencias. En casoi de que si haya coincidencias, muestra esas filas.\n",
    "\n",
    "##### LEFT JOIN\n",
    "\n",
    "El LEFT JOIN se queda con todos los valores de la tabla de la izquierda y le adiciona los de la tabla de la derecha que coincidan por clave, es decir, cruza dos tablas y busca coincidencias por clave, en caso de que no hay coincidencias, nos mostraria solo los valores de la tabla de la izquierda. En caso de que si haya coincidencias, muestra los valores de la tabla de la izquierda y ademas le adiciona las coincidencias de la de la derecha. Se pueden crear varias filas para una sola fila de izquierda.\n",
    "\n",
    "##### RIGHT JOIN\n",
    "\n",
    "Es igual que el LEFT JOIN pero invirtiendo los lados de las tablas.\n",
    "\n",
    "![JOINS](join_types.png)"
   ]
  },
  {
   "cell_type": "code",
   "execution_count": null,
   "metadata": {
    "vscode": {
     "languageId": "sql"
    }
   },
   "outputs": [],
   "source": [
    "SELECT \n",
    "    trips.start_station_id, \n",
    "    stations.name, \n",
    "    trips.duration_minutes\n",
    "FROM data-science-349808.austin_bikeshare.bikeshare_trips AS trips\n",
    "RIGHT JOIN data-science-349808.austin_bikeshare.bikeshare_stations AS stations\n",
    "ON trips.start_station_id = stations.station_id;"
   ]
  },
  {
   "cell_type": "code",
   "execution_count": null,
   "metadata": {
    "vscode": {
     "languageId": "sql"
    }
   },
   "outputs": [],
   "source": [
    "SELECT \n",
    "    trips.start_station_id, \n",
    "    stations.name, \n",
    "    trips.duration_minutes\n",
    "FROM data-science-349808.austin_bikeshare.bikeshare_trips AS trips\n",
    "LEFT JOIN data-science-349808.austin_bikeshare.bikeshare_stations AS stations\n",
    "ON trips.start_station_id = stations.station_id;"
   ]
  }
 ],
 "metadata": {
  "interpreter": {
   "hash": "916dbcbb3f70747c44a77c7bcd40155683ae19c65e1c03b4aa3499c5328201f1"
  },
  "kernelspec": {
   "display_name": "Python 3.8.10 64-bit",
   "language": "python",
   "name": "python3"
  },
  "language_info": {
   "codemirror_mode": {
    "name": "ipython",
    "version": 3
   },
   "file_extension": ".py",
   "mimetype": "text/x-python",
   "name": "python",
   "nbconvert_exporter": "python",
   "pygments_lexer": "ipython3",
   "version": "3.8.10"
  },
  "orig_nbformat": 4
 },
 "nbformat": 4,
 "nbformat_minor": 2
}
