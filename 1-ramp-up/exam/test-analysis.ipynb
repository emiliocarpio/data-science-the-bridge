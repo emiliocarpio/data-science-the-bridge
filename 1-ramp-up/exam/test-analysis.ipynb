{
 "cells": [
  {
   "cell_type": "code",
   "execution_count": 1,
   "metadata": {},
   "outputs": [],
   "source": [
    "import pandas as pd\n",
    "from datetime import date, datetime\n",
    "from matplotlib import pyplot as plt"
   ]
  },
  {
   "cell_type": "code",
   "execution_count": 2,
   "metadata": {},
   "outputs": [],
   "source": [
    "plt.style.use(\"dark_background\")"
   ]
  },
  {
   "cell_type": "code",
   "execution_count": 256,
   "metadata": {},
   "outputs": [],
   "source": [
    "spreadsheet_url = \"https://docs.google.com/spreadsheets/d/1kmpq_cb7uX8hNI-q77y6Z16yeGdKvwU4hGr4F62rVbw/edit#gid=0\"\n",
    "spreadsheet_csv_url = spreadsheet_url.replace(\"/edit#gid=\", \"/export?format=csv&gid=\")"
   ]
  },
  {
   "cell_type": "code",
   "execution_count": 4,
   "metadata": {},
   "outputs": [],
   "source": [
    "responses_df = pd.read_csv(\"ramp-up-responses.csv\")"
   ]
  },
  {
   "cell_type": "code",
   "execution_count": 258,
   "metadata": {},
   "outputs": [
    {
     "name": "stdout",
     "output_type": "stream",
     "text": [
      "<class 'pandas.core.frame.DataFrame'>\n",
      "RangeIndex: 9 entries, 0 to 8\n",
      "Data columns (total 33 columns):\n",
      " #   Column                                                                                                   Non-Null Count  Dtype  \n",
      "---  ------                                                                                                   --------------  -----  \n",
      " 0   Marca temporal                                                                                           9 non-null      object \n",
      " 1   Puntuación                                                                                               9 non-null      object \n",
      " 2   1. Si A = 1, B = 1, C = 2, entonces D = A == (B,) or not (not C == B)                                    8 non-null      object \n",
      " 3   2. ¿Qué variable está mal declarada?                                                                     9 non-null      object \n",
      " 4   3. ¿Qué código usa la mejor práctica para declarar una variable?                                         9 non-null      object \n",
      " 5   4. Para eliminar el elemento con valor \"a\" de una lista llamada auxiliar, ejecuto:                       9 non-null      object \n",
      " 6   5. float(\"67,98\") da                                                                                     9 non-null      object \n",
      " 7   6. Para añadir un elemento a una lista utilizo:                                                          9 non-null      object \n",
      " 8   7. La declaración de esta lista, ¿es correcta? lista_total = [\"texto\", 1, 7, 55.78, True]                9 non-null      object \n",
      " 9   8. Para iterar sobre el string \"thebridge\":                                                              9 non-null      object \n",
      " 10  9. Si paso de un diccionario a una lista, mediante la sentencia list(mi_diccionario)...                  9 non-null      object \n",
      " 11  10. Si hago un \"for i in mi_diccionario\", voy a iterar sobre:                                            9 non-null      object \n",
      " 12  11. ¿Y si ejecuto mi_lista[len(mi_lista)]?                                                               9 non-null      object \n",
      " 13  12. ¿Qué lista esta declarada de manera incorrecta?                                                      9 non-null      object \n",
      " 14  13. Si tengo una clave de un diccionario y quiero acceder a su valor... ¿Cómo procedo?                   9 non-null      object \n",
      " 15  14. Los elementos de un set son únicos                                                                   9 non-null      bool   \n",
      " 16  15. Las tuplas son inmutables y desordenadas                                                             9 non-null      bool   \n",
      " 17  16. Los diccionarios son inmutables                                                                      9 non-null      bool   \n",
      " 18  17. Si quiero concatenar los elementos de dos tuplas...                                                  8 non-null      object \n",
      " 19  18. Teniendo la función def clean_data(a,b,c,d)...                                                       8 non-null      object \n",
      " 20  19. Una función necesita siempre que escribamos return:                                                  9 non-null      bool   \n",
      " 21  20. Quiero bajarme los cambios de un repositorio de github, que utilizo?                                 9 non-null      object \n",
      " 22  21. Si tengo dos listas: a = [1,2,3] y b=[6,2,8], y quiero sumar elemento a elemento                     9 non-null      object \n",
      " 23  22. Si quiero imprimir por pantalla todos los números entre el 100 y el 156 ambos inclusive, tengo que:  9 non-null      object \n",
      " 24  23. ¿Qué for puedo usar para recorrer por valor del elemento de una lista o tupla?                       9 non-null      object \n",
      " 25  24. sorted(lista) y lista[::-1]... ¿hacen lo mismo?                                                      9 non-null      object \n",
      " 26  25. Si quiero ejecutar un programa indefinidamente...                                                    9 non-null      object \n",
      " 27  26. Si una función 'f1' no tiene return... Al ejecutar: x = f1()                                         9 non-null      object \n",
      " 28  27. Si tengo x = 2 y ejecuto el código: if x: print(4) else: print(3)  (poniendo bien la indentación)    9 non-null      object \n",
      " 29  28 . Si creamos una clase heredada de otra clase de este tipo class Bicicleta(Vehículo)                  9 non-null      object \n",
      " 30  29. En qué consisten las funciones recursivas                                                            9 non-null      object \n",
      " 31  30. Para integrar una imagen en Markdown se hace:                                                        9 non-null      object \n",
      " 32  Adjunta aquí el archivo .ipynb                                                                           0 non-null      float64\n",
      "dtypes: bool(4), float64(1), object(28)\n",
      "memory usage: 2.2+ KB\n"
     ]
    }
   ],
   "source": [
    "responses_df.info()"
   ]
  },
  {
   "cell_type": "code",
   "execution_count": 259,
   "metadata": {},
   "outputs": [],
   "source": [
    "d = datetime(2022, 5, 14, 14, 30)\n",
    "\n",
    "def datetime_str_to_dt(datetime_str):\n",
    "    datetime_dt = datetime.strptime(datetime_str, \"%d/%m/%Y %H:%M:%S\") \n",
    "    return datetime_dt   \n",
    "\n",
    "min_dt = datetime_str_to_dt(\n",
    "    responses_df[\"Marca temporal\"].min())\n",
    "max_dt = datetime_str_to_dt(\n",
    "    responses_df[\"Marca temporal\"].max())\n",
    "\n",
    "delta = (min_dt - max_dt)\n",
    "max_diff_hours = round(\n",
    "    (delta.total_seconds() / 3600), 2)\n",
    "\n",
    "diff_dt = max_dt - min_dt"
   ]
  },
  {
   "cell_type": "code",
   "execution_count": 260,
   "metadata": {},
   "outputs": [
    {
     "name": "stdout",
     "output_type": "stream",
     "text": [
      "La primera entrega ha sido 2022-05-14 21:39:30, \n",
      "    7:09:30 horas despues de la publicacion.\n",
      "La utima entrega ha sido 2022-05-16 20:47:06, \n",
      "    2 dias, 6:17:06 horas despues de la publicacion.\n",
      "La primera y ultima entrega se llevan 1 dia, 23:07:36.\n"
     ]
    }
   ],
   "source": [
    "print(\n",
    "    \"\"\"La primera entrega ha sido {0}, \n",
    "    {1} horas despues de la publicacion.\"\"\".format(min_dt, min_dt - d))\n",
    "print(\n",
    "    \"\"\"La utima entrega ha sido {0}, \n",
    "    {1} horas despues de la publicacion.\"\"\".format(max_dt, (max_dt - d)) \\\n",
    "        .replace(\"day\", \"dia\"))\n",
    "print(\"La primera y ultima entrega se llevan {0}.\".format(diff_dt) \\\n",
    "        .replace(\"day\", \"dia\"))    "
   ]
  },
  {
   "cell_type": "code",
   "execution_count": 6,
   "metadata": {},
   "outputs": [],
   "source": [
    "def get_score_str(score):\n",
    "    if score >= 5 and score < 6:\n",
    "        score_str = \"SUFICIENTE\" \n",
    "    elif score >= 6 and score < 7:\n",
    "        score_str = \"BIEN\"         \n",
    "    elif score >= 7 and score < 9:\n",
    "        score_str = \"NOTABLE\" \n",
    "    elif score >= 9 and score <= 10:\n",
    "        score_str = \"SOBRESALIENTE\"\n",
    "    else:\n",
    "        score_str = \"SUSPENSO\"\n",
    "    return score_str    \n",
    "\n",
    "total_points = int(responses_df[\"Puntuación\"].str.split(\" / \").min()[1])\n",
    "min_points = int(responses_df[\"Puntuación\"].str.split(\" / \").min()[0])\n",
    "max_points = int(responses_df[\"Puntuación\"].str.split(\" / \").max()[0])\n",
    "\n",
    "min_score = round(min_points / total_points * 10, 2)\n",
    "max_score = round(max_points / total_points * 10, 2)\n",
    "\n",
    "max_diff_score = round(max_score - min_score, 2)\n",
    "\n",
    "median_points = int(responses_df[\"Puntuación\"].str.split(\" / \").str[0].astype('int32').median())\n",
    "mean_points = int(responses_df[\"Puntuación\"].str.split(\" / \").str[0].astype('int32').mean())\n",
    "std_points = int(responses_df[\"Puntuación\"].str.split(\" / \").str[0].astype('int32').std())\n",
    "\n",
    "median_score = round(median_points / total_points * 10, 2)\n",
    "mean_score = round(mean_points / total_points * 10, 2)\n",
    "std_score = round(std_points / total_points * 10, 2)"
   ]
  },
  {
   "cell_type": "code",
   "execution_count": 262,
   "metadata": {},
   "outputs": [
    {
     "name": "stdout",
     "output_type": "stream",
     "text": [
      "La nota minima ha sido 5.67, lo que equivale a un SUFICIENTE\n",
      "La nota minima ha sido 10.0, lo que equivale a un SOBRESALIENTE\n",
      "La media de la nota ha sido 7.67, lo que equivale a un NOTABLE\n",
      "La mediana de la nota ha sido 7.67, lo que equivale a un NOTABLE\n",
      "La mediana de la nota ha sido 1.33.\n",
      "La maxima diferencia entre notas ha sido: 4.33.\n"
     ]
    }
   ],
   "source": [
    "print(\"La nota minima ha sido {0}, lo que equivale a un {1}\".format(min_score, get_score_str(min_score)))\n",
    "print(\"La nota minima ha sido {0}, lo que equivale a un {1}\".format(max_score, get_score_str(max_score)))\n",
    "print(\"La media de la nota ha sido {0}, lo que equivale a un {1}\".format(mean_score, get_score_str(mean_score)))\n",
    "print(\"La mediana de la nota ha sido {0}, lo que equivale a un {1}\".format(median_score, get_score_str(median_score)))\n",
    "print(\"La mediana de la nota ha sido {0}.\".format(std_score))\n",
    "print(\"La maxima diferencia entre notas ha sido: {}.\".format(max_diff_score))"
   ]
  },
  {
   "cell_type": "code",
   "execution_count": 7,
   "metadata": {},
   "outputs": [],
   "source": [
    "responses_df[\"score\"] = round( \\\n",
    "    (responses_df[\"Puntuación\"].str.split(\" / \").str[0].astype('int32') \\\n",
    "    / responses_df[\"Puntuación\"].str.split(\" / \").str[1].astype('int32')) * 10, 2)\n",
    "responses_df[\"score_str\"] = responses_df[\"score\"].apply(get_score_str)\n"
   ]
  },
  {
   "cell_type": "code",
   "execution_count": 8,
   "metadata": {},
   "outputs": [
    {
     "data": {
      "text/plain": [
       "Text(0, 0.5, 'Numero de notas')"
      ]
     },
     "execution_count": 8,
     "metadata": {},
     "output_type": "execute_result"
    },
    {
     "data": {
      "image/png": "[encoded data removed]",
      "text/plain": [
       "<Figure size 1008x576 with 1 Axes>"
      ]
     },
     "metadata": {},
     "output_type": "display_data"
    }
   ],
   "source": [
    "order = ['SUFICIENTE', 'BIEN', 'NOTABLE','SOBRESALIENTE']\n",
    "responses_agg_df = responses_df[[\"score\",\"score_str\"]] \\\n",
    "    .groupby(['score_str']).agg({'count'})\n",
    "ax = responses_agg_df.loc[order].plot(\n",
    "    kind = 'bar', figsize = (14, 8),\n",
    "    title = \"Distirbucion de las notas\")\n",
    "ax.set_xlabel(\"Nota\")\n",
    "ax.set_ylabel(\"Numero de notas\")"
   ]
  },
  {
   "cell_type": "code",
   "execution_count": 266,
   "metadata": {},
   "outputs": [
    {
     "name": "stdout",
     "output_type": "stream",
     "text": [
      "SOLO hay 1 EXAMEN PERFECTO.\n"
     ]
    }
   ],
   "source": [
    "vowels = ('a', 'e', 'i', 'o', 'u')\n",
    "\n",
    "def stringify_nums(num):\n",
    "    if num < 0:\n",
    "        _str = \"NO hay ningun\"\n",
    "        plural = False\n",
    "    elif num == 1:\n",
    "        _str = \"SOLO hay {}\".format(num)\n",
    "        plural = False\n",
    "    else:\n",
    "        _str = \"Hay {}\".format(num)\n",
    "        plural = True       \n",
    "    return _str, plural        \n",
    "\n",
    "perfect_exam = \\\n",
    "    responses_df[\"Puntuación\"].str.split(\" / \").str[0].astype('int32') \\\n",
    "        == responses_df[\"Puntuación\"].str.split(\" / \").str[1].astype('int32')\n",
    "perfect_exam_df = responses_df[perfect_exam]\n",
    "start_str, plural = stringify_nums(len(perfect_exam_df))\n",
    "end_str_lst = [\"examen\", \"perfecto\"]\n",
    "if plural:\n",
    "    end_str = \" \".join([e + \"s\" if e.endswith(vowels) else e + \"es\" for e in end_str_lst])\n",
    "else:\n",
    "    end_str = \" \".join(e for e in end_str_lst)\n",
    "print(\"{0} {1}.\".format(start_str, end_str.upper()))"
   ]
  },
  {
   "cell_type": "code",
   "execution_count": 267,
   "metadata": {},
   "outputs": [],
   "source": [
    "#comparison_df = responses_df[\"Marca temporal\"].div(perfect_exam_df)\n",
    "failed_questions_dict = {}\n",
    "\n",
    "for column in responses_df.columns:\n",
    "    if column[0].isdigit():\n",
    "        #print(column)\n",
    "        perc_lst = list(responses_df[column].value_counts(normalize = False))\n",
    "        if len(perc_lst) > 1:\n",
    "            perc_dict = responses_df[column].value_counts(normalize = False).to_dict()\n",
    "            #print()\n",
    "            #print(perfect_exam_df[column])\n",
    "            failed_questions_dict[column] = perc_dict\n",
    "#responses_df[\"Marca temporal\"].value_counts(normalize = True)"
   ]
  },
  {
   "cell_type": "code",
   "execution_count": 268,
   "metadata": {},
   "outputs": [
    {
     "name": "stdout",
     "output_type": "stream",
     "text": [
      "25\n"
     ]
    }
   ],
   "source": [
    "print(len(failed_questions_dict))"
   ]
  },
  {
   "cell_type": "code",
   "execution_count": 269,
   "metadata": {},
   "outputs": [],
   "source": [
    "def print_responses(_dict, num_responses):\n",
    "    for question, response in _dict.items():\n",
    "        if len(response) == num_responses:\n",
    "            true_resp = perfect_exam_df[question].values\n",
    "            print(question)\n",
    "            resp_dict = {k:  str(v) + \" <-- Esta es la respuesta buena\" if k == true_resp else v for k, v in response.items()}\n",
    "            for k, v in resp_dict.items():\n",
    "                print(\"    {0}: {1}\".format(k, v)) \n",
    "\n",
    "#len(failed_questions_dict[\"2. ¿Qué variable está mal declarada?\"])"
   ]
  },
  {
   "cell_type": "code",
   "execution_count": 270,
   "metadata": {},
   "outputs": [
    {
     "name": "stdout",
     "output_type": "stream",
     "text": [
      "23. ¿Qué for puedo usar para recorrer por valor del elemento de una lista o tupla?\n",
      "    for i in lista:: 5 <-- Esta es la respuesta buena\n",
      "    for i, x in lista:: 2\n",
      "    for i in enumerate(lista):, for i in lista:: 1\n",
      "    for i in range(lista): 1\n"
     ]
    }
   ],
   "source": [
    "print_responses(failed_questions_dict, 4)"
   ]
  },
  {
   "cell_type": "code",
   "execution_count": 271,
   "metadata": {},
   "outputs": [
    {
     "name": "stdout",
     "output_type": "stream",
     "text": [
      "6. Para añadir un elemento a una lista utilizo:\n",
      "    lista.append(elemento): 7 <-- Esta es la respuesta buena\n",
      "    lista.add(elemento): 1\n",
      "    lista.add(elemento), lista.append(elemento): 1\n",
      "8. Para iterar sobre el string \"thebridge\":\n",
      "    for i in \"thebridge\":: 6 <-- Esta es la respuesta buena\n",
      "    for i in enumerate(\"thebridge\"):: 2\n",
      "    for i in \"thebridge\":, for i in enumerate(\"thebridge\"):: 1\n",
      "9. Si paso de un diccionario a una lista, mediante la sentencia list(mi_diccionario)...\n",
      "    tendre una lista de claves: 6 <-- Esta es la respuesta buena\n",
      "    tendre una lista de tuplas con las claves y valores: 2\n",
      "    tendre una lista de tuplas con las claves y valores, tendre una lista de claves, tendre una lista de valores: 1\n",
      "10. Si hago un \"for i in mi_diccionario\", voy a iterar sobre:\n",
      "    Las claves: 6 <-- Esta es la respuesta buena\n",
      "    Dará error: 2\n",
      "    Claves y valores: 1\n",
      "17. Si quiero concatenar los elementos de dos tuplas...\n",
      "    tupla1 + tupla2: 6 <-- Esta es la respuesta buena\n",
      "    tupla_1.concat(tupla_2): 1\n",
      "    tupla_1.concat(tupla_2), tupla1 + tupla2: 1\n",
      "21. Si tengo dos listas: a = [1,2,3] y b=[6,2,8], y quiero sumar elemento a elemento\n",
      "    Tendré que recorrerlas con un bucle: 7 <-- Esta es la respuesta buena\n",
      "    Puedo usar la sentencia a.sum(b), ya que es función built-in de Python: 1\n",
      "    Como tienen las mismas dimensiones, hago a + b: 1\n",
      "27. Si tengo x = 2 y ejecuto el código: if x: print(4) else: print(3)  (poniendo bien la indentación)\n",
      "    Se muestra 4: 6 <-- Esta es la respuesta buena\n",
      "    Ninguna de las anteriores: 2\n",
      "    Se muestra 2: 1\n"
     ]
    }
   ],
   "source": [
    "print_responses(failed_questions_dict, 3)"
   ]
  },
  {
   "cell_type": "code",
   "execution_count": 272,
   "metadata": {},
   "outputs": [
    {
     "name": "stdout",
     "output_type": "stream",
     "text": [
      "1. Si A = 1, B = 1, C = 2, entonces D = A == (B,) or not (not C == B)\n",
      "    Es correcto y D = True: 5\n",
      "    Es correcto y D = False: 3 <-- Esta es la respuesta buena\n",
      "2. ¿Qué variable está mal declarada?\n",
      "    var = false: 7 <-- Esta es la respuesta buena\n",
      "    Ninguna, son todas válidas: 2\n",
      "5. float(\"67,98\") da\n",
      "    Error: 6 <-- Esta es la respuesta buena\n",
      "    un float que vale 67.98: 3\n",
      "11. ¿Y si ejecuto mi_lista[len(mi_lista)]?\n",
      "    Error: 7 <-- Esta es la respuesta buena\n",
      "    No se puede usar ahi el len: 2\n",
      "12. ¿Qué lista esta declarada de manera incorrecta?\n",
      "    Ninguna, todas son correctas: 8 <-- Esta es la respuesta buena\n",
      "    lista = [\"eeee\", 3, 4, [], [3,4,5,[]]]: 1\n",
      "13. Si tengo una clave de un diccionario y quiero acceder a su valor... ¿Cómo procedo?\n",
      "    diccionario[key]: 7 <-- Esta es la respuesta buena\n",
      "    diccionario.keys(): 2\n",
      "14. Los elementos de un set son únicos\n",
      "    True: 8 <-- Esta es la respuesta buena\n",
      "    False: 1\n",
      "15. Las tuplas son inmutables y desordenadas\n",
      "    False: 7 <-- Esta es la respuesta buena\n",
      "    True: 2\n",
      "16. Los diccionarios son inmutables\n",
      "    False: 7 <-- Esta es la respuesta buena\n",
      "    True: 2\n",
      "19. Una función necesita siempre que escribamos return:\n",
      "    False: 8 <-- Esta es la respuesta buena\n",
      "    True: 1\n",
      "20. Quiero bajarme los cambios de un repositorio de github, que utilizo?\n",
      "    git pull: 8 <-- Esta es la respuesta buena\n",
      "    git pull, git clone: 1\n",
      "22. Si quiero imprimir por pantalla todos los números entre el 100 y el 156 ambos inclusive, tengo que:\n",
      "    Usaré el range(100, 157): 8 <-- Esta es la respuesta buena\n",
      "    Ninguna es correcta: 1\n",
      "24. sorted(lista) y lista[::-1]... ¿hacen lo mismo?\n",
      "    No: 8 <-- Esta es la respuesta buena\n",
      "    Sí: 1\n",
      "25. Si quiero ejecutar un programa indefinidamente... \n",
      "    Uso while 1:: 7 <-- Esta es la respuesta buena\n",
      "    Ninguna de las anteriores: 2\n",
      "26. Si una función 'f1' no tiene return... Al ejecutar: x = f1()\n",
      "    x vale None: 7 <-- Esta es la respuesta buena\n",
      "    Ninguna de las anteriores: 2\n",
      "28 . Si creamos una clase heredada de otra clase de este tipo class Bicicleta(Vehículo)\n",
      "    Las dos son correctas: 7 <-- Esta es la respuesta buena\n",
      "    Los atributos generales de la clase Vehículo los tendremos también en la clase Bicicleta: 2\n",
      "30. Para integrar una imagen en Markdown se hace:\n",
      "    [imagen](./img/python.png): 8 <-- Esta es la respuesta buena\n",
      "    (imagen)(./img/python.png): 1\n"
     ]
    }
   ],
   "source": [
    "print_responses(failed_questions_dict, 2)"
   ]
  }
 ],
 "metadata": {
  "interpreter": {
   "hash": "916dbcbb3f70747c44a77c7bcd40155683ae19c65e1c03b4aa3499c5328201f1"
  },
  "kernelspec": {
   "display_name": "Python 3.8.10 64-bit",
   "language": "python",
   "name": "python3"
  },
  "language_info": {
   "codemirror_mode": {
    "name": "ipython",
    "version": 3
   },
   "file_extension": ".py",
   "mimetype": "text/x-python",
   "name": "python",
   "nbconvert_exporter": "python",
   "pygments_lexer": "ipython3",
   "version": "3.8.10"
  },
  "orig_nbformat": 4
 },
 "nbformat": 4,
 "nbformat_minor": 2
}
